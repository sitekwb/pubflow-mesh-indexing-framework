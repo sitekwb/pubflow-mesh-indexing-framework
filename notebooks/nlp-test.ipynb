{
 "cells": [
  {
   "cell_type": "code",
   "execution_count": 1,
   "metadata": {
    "collapsed": true
   },
   "outputs": [
    {
     "name": "stderr",
     "output_type": "stream",
     "text": [
      "100%|██████████| 20/20 [00:00<00:00, 10531.84it/s]\n"
     ]
    }
   ],
   "source": [
    "import os\n",
    "from typing import List, Optional, Dict\n",
    "from tqdm import tqdm\n",
    "import json\n",
    "from collections import Counter\n",
    "\n",
    "def get_text(node):\n",
    "    try:\n",
    "        return node.text\n",
    "    except AttributeError:\n",
    "        return None\n",
    "\n",
    "\n",
    "data_dir: str = '/Users/wojciechsitek/Local/Indexing/data/BioAsq-test1'\n",
    "file_extension: str = '.json'\n",
    "\n",
    "files: List[str] = os.listdir(data_dir)\n",
    "files: List[str] = list(filter(lambda x: file_extension in x, files))\n",
    "records_json = []\n",
    "records_csv = []\n",
    "\n",
    "counter = Counter()\n",
    "\n",
    "def tokenize(t: str):\n",
    "    return t.split()\n",
    "\n",
    "for filename in files:\n",
    "    with open(os.path.join(data_dir, filename), encoding='ISO-8859-1') as f:\n",
    "        articles: List[Dict] = json.load(f)['articles']\n",
    "    for article in tqdm(articles):\n",
    "        text: str = article['abstractText']\n",
    "        tokens: List[str] = tokenize(text)\n",
    "        counter.update(tokens)"
   ]
  },
  {
   "cell_type": "code",
   "execution_count": null,
   "outputs": [],
   "source": [
    "from matplotlib import pyplot as plt\n",
    "\n",
    "c = dict(counter.most_common(100))\n",
    "plt.scatter(x=c.keys(), y=c.values())"
   ],
   "metadata": {
    "collapsed": false,
    "pycharm": {
     "name": "#%%\n"
    }
   }
  },
  {
   "cell_type": "code",
   "execution_count": 5,
   "outputs": [
    {
     "data": {
      "text/plain": "[2,\n 1,\n 3,\n 3,\n 1,\n 27,\n 372,\n 1,\n 1,\n 205,\n 1,\n 2,\n 216,\n 1,\n 1,\n 2,\n 1,\n 6,\n 184,\n 1,\n 1,\n 4,\n 6,\n 12,\n 2,\n 1,\n 1,\n 2,\n 8,\n 43,\n 1,\n 4,\n 3,\n 1,\n 30,\n 1,\n 62,\n 16,\n 2,\n 1,\n 1,\n 3,\n 8,\n 4,\n 3,\n 1,\n 1,\n 100,\n 1,\n 1,\n 1,\n 2,\n 2,\n 5,\n 1,\n 1,\n 1,\n 2,\n 1,\n 13,\n 1,\n 7,\n 10,\n 11,\n 1,\n 9,\n 2,\n 1,\n 1,\n 1,\n 1,\n 1,\n 1,\n 1,\n 1,\n 5,\n 2,\n 1,\n 4,\n 1,\n 1,\n 1,\n 18,\n 2,\n 1,\n 2,\n 12,\n 1,\n 3,\n 3,\n 3,\n 1,\n 1,\n 1,\n 1,\n 56,\n 2,\n 2,\n 2,\n 1,\n 1,\n 1,\n 1,\n 1,\n 1,\n 1,\n 35,\n 7,\n 1,\n 1,\n 1,\n 1,\n 3,\n 13,\n 2,\n 2,\n 2,\n 2,\n 2,\n 1,\n 1,\n 13,\n 1,\n 1,\n 1,\n 1,\n 2,\n 2,\n 2,\n 37,\n 1,\n 2,\n 1,\n 1,\n 1,\n 5,\n 2,\n 1,\n 1,\n 6,\n 2,\n 1,\n 2,\n 1,\n 76,\n 7,\n 1,\n 1,\n 2,\n 1,\n 1,\n 1,\n 1,\n 2,\n 1,\n 3,\n 1,\n 2,\n 10,\n 1,\n 5,\n 1,\n 1,\n 1,\n 4,\n 1,\n 6,\n 24,\n 1,\n 61,\n 2,\n 3,\n 2,\n 2,\n 1,\n 1,\n 1,\n 1,\n 1,\n 1,\n 1,\n 1,\n 10,\n 5,\n 1,\n 13,\n 1,\n 2,\n 1,\n 1,\n 2,\n 1,\n 2,\n 1,\n 1,\n 1,\n 6,\n 12,\n 18,\n 5,\n 3,\n 3,\n 1,\n 17,\n 3,\n 3,\n 1,\n 1,\n 3,\n 2,\n 5,\n 24,\n 2,\n 1,\n 3,\n 4,\n 1,\n 3,\n 12,\n 3,\n 1,\n 1,\n 2,\n 1,\n 2,\n 1,\n 1,\n 1,\n 1,\n 1,\n 1,\n 1,\n 1,\n 11,\n 1,\n 1,\n 1,\n 1,\n 1,\n 1,\n 2,\n 2,\n 5,\n 2,\n 7,\n 3,\n 9,\n 2,\n 1,\n 3,\n 2,\n 2,\n 26,\n 1,\n 1,\n 4,\n 1,\n 1,\n 9,\n 1,\n 1,\n 2,\n 2,\n 5,\n 10,\n 1,\n 2,\n 7,\n 1,\n 1,\n 6,\n 1,\n 1,\n 1,\n 4,\n 4,\n 1,\n 9,\n 5,\n 1,\n 4,\n 2,\n 1,\n 1,\n 1,\n 2,\n 1,\n 3,\n 1,\n 1,\n 1,\n 1,\n 1,\n 16,\n 1,\n 1,\n 5,\n 1,\n 67,\n 1,\n 1,\n 98,\n 1,\n 1,\n 103,\n 1,\n 1,\n 4,\n 1,\n 1,\n 1,\n 1,\n 3,\n 1,\n 2,\n 11,\n 19,\n 1,\n 1,\n 1,\n 1,\n 1,\n 9,\n 1,\n 1,\n 1,\n 2,\n 1,\n 2,\n 2,\n 3,\n 1,\n 2,\n 3,\n 1,\n 1,\n 1,\n 1,\n 8,\n 1,\n 6,\n 1,\n 4,\n 3,\n 3,\n 1,\n 14,\n 1,\n 1,\n 9,\n 2,\n 11,\n 1,\n 1,\n 4,\n 1,\n 2,\n 1,\n 1,\n 2,\n 1,\n 1,\n 1,\n 1,\n 1,\n 1,\n 1,\n 1,\n 11,\n 9,\n 13,\n 1,\n 1,\n 1,\n 1,\n 1,\n 1,\n 2,\n 2,\n 2,\n 3,\n 1,\n 1,\n 1,\n 1,\n 1,\n 1,\n 4,\n 1,\n 1,\n 4,\n 1,\n 6,\n 1,\n 2,\n 3,\n 2,\n 1,\n 1,\n 2,\n 2,\n 2,\n 5,\n 1,\n 1,\n 1,\n 1,\n 2,\n 1,\n 2,\n 1,\n 1,\n 15,\n 1,\n 4,\n 1,\n 8,\n 16,\n 1,\n 8,\n 1,\n 3,\n 1,\n 1,\n 1,\n 1,\n 1,\n 1,\n 1,\n 16,\n 3,\n 3,\n 4,\n 1,\n 2,\n 3,\n 1,\n 2,\n 3,\n 2,\n 1,\n 7,\n 2,\n 3,\n 2,\n 1,\n 1,\n 1,\n 1,\n 1,\n 1,\n 1,\n 2,\n 3,\n 1,\n 1,\n 2,\n 9,\n 1,\n 3,\n 4,\n 1,\n 2,\n 3,\n 1,\n 1,\n 1,\n 1,\n 1,\n 1,\n 1,\n 27,\n 2,\n 1,\n 2,\n 1,\n 1,\n 1,\n 5,\n 1,\n 1,\n 1,\n 1,\n 1,\n 1,\n 1,\n 3,\n 4,\n 2,\n 4,\n 1,\n 2,\n 3,\n 1,\n 9,\n 1,\n 1,\n 4,\n 1,\n 3,\n 1,\n 1,\n 11,\n 1,\n 3,\n 2,\n 3,\n 5,\n 5,\n 20,\n 1,\n 1,\n 1,\n 1,\n 1,\n 1,\n 1,\n 1,\n 1,\n 1,\n 1,\n 2,\n 1,\n 5,\n 1,\n 1,\n 1,\n 1,\n 2,\n 6,\n 7,\n 6,\n 2,\n 9,\n 2,\n 4,\n 5,\n 1,\n 1,\n 1,\n 1,\n 1,\n 1,\n 3,\n 1,\n 1,\n 1,\n 1,\n 1,\n 1,\n 1,\n 1,\n 2,\n 1,\n 1,\n 1,\n 1,\n 1,\n 1,\n 2,\n 8,\n 10,\n 1,\n 1,\n 1,\n 1,\n 1,\n 1,\n 2,\n 1,\n 1,\n 5,\n 1,\n 12,\n 8,\n 4,\n 2,\n 2,\n 3,\n 1,\n 3,\n 2,\n 4,\n 1,\n 4,\n 3,\n 3,\n 3,\n 3,\n 1,\n 1,\n 5,\n 1,\n 1,\n 1,\n 1,\n 1,\n 1,\n 1,\n 1,\n 1,\n 1,\n 2,\n 1,\n 3,\n 4,\n 1,\n 1,\n 1,\n 1,\n 1,\n 1,\n 1,\n 1,\n 1,\n 1,\n 2,\n 1,\n 1,\n 2,\n 1,\n 1,\n 1,\n 1,\n 1,\n 1,\n 1,\n 1,\n 1,\n 1,\n 1,\n 1,\n 4,\n 1,\n 1,\n 4,\n 1,\n 1,\n 1,\n 1,\n 1,\n 7,\n 1,\n 4,\n 1,\n 1,\n 1,\n 1,\n 1,\n 1,\n 1,\n 2,\n 1,\n 1,\n 1,\n 1,\n 1,\n 1,\n 1,\n 1,\n 1,\n 1,\n 1,\n 4,\n 1,\n 1,\n 1,\n 5,\n 1,\n 6,\n 1,\n 2,\n 1,\n 1,\n 1,\n 1,\n 1,\n 1,\n 1,\n 2,\n 2,\n 1,\n 1,\n 1,\n 1,\n 1,\n 1,\n 1,\n 4,\n 1,\n 4,\n 1,\n 1,\n 2,\n 29,\n 1,\n 1,\n 1,\n 1,\n 2,\n 1,\n 2,\n 1,\n 1,\n 3,\n 2,\n 6,\n 1,\n 1,\n 2,\n 1,\n 1,\n 1,\n 1,\n 1,\n 1,\n 1,\n 1,\n 1,\n 1,\n 1,\n 1,\n 1,\n 1,\n 1,\n 1,\n 2,\n 6,\n 1,\n 1,\n 1,\n 3,\n 1,\n 1,\n 1,\n 1,\n 1,\n 1,\n 1,\n 1,\n 1,\n 1,\n 1,\n 1,\n 1,\n 2,\n 1,\n 1,\n 1,\n 1,\n 1,\n 1,\n 1,\n 1,\n 1,\n 1,\n 1,\n 1,\n 1,\n 1,\n 1,\n 1,\n 1,\n 1,\n 1,\n 1,\n 1,\n 1,\n 1,\n 1,\n 2,\n 1,\n 2,\n 2,\n 3,\n 2,\n 2,\n 1,\n 1,\n 1,\n 1,\n 1,\n 7,\n 2,\n 2,\n 1,\n 1,\n 1,\n 2,\n 2,\n 3,\n 3,\n 6,\n 6,\n 5,\n 1,\n 7,\n 1,\n 1,\n 1,\n 5,\n 1,\n 1,\n 5,\n 2,\n 1,\n 1,\n 10,\n 1,\n 10,\n 1,\n 2,\n 1,\n 5,\n 1,\n 2,\n 4,\n 1,\n 1,\n 14,\n 1,\n 1,\n 1,\n 1,\n 10,\n 12,\n 1,\n 3,\n 1,\n 1,\n 1,\n 1,\n 1,\n 3,\n 1,\n 1,\n 3,\n 2,\n 1,\n 1,\n 1,\n 1,\n 1,\n 1,\n 1,\n 1,\n 1,\n 1,\n 1,\n 1,\n 1,\n 1,\n 1,\n 1,\n 1,\n 1,\n 1,\n 7,\n 1,\n 1,\n 1,\n 1,\n 1,\n 1,\n 1,\n 2,\n 1,\n 1,\n 2,\n 1,\n 5,\n 1,\n 1,\n 1,\n 1,\n 1,\n 2,\n 1,\n 1,\n 1,\n 4,\n 5,\n 1,\n 1,\n 3,\n 1,\n 1,\n 1,\n 1,\n 1,\n 1,\n 2,\n 4,\n 1,\n 2,\n 1,\n 1,\n 1,\n 1,\n 1,\n 1,\n 1,\n 1,\n 1,\n 1,\n 1,\n 1,\n 1,\n 1,\n 1,\n 1,\n 1,\n 1,\n 1,\n 1,\n 1,\n 1,\n 1,\n 1,\n 1,\n 1,\n 5,\n 1,\n 1,\n 1,\n 8,\n 1,\n 1,\n 4,\n 1,\n 1,\n 1,\n 1,\n 1,\n 1,\n 5,\n 1,\n 1,\n 1,\n 1,\n 1,\n 1,\n 1,\n 1,\n 1,\n 1,\n 1,\n 1,\n 1,\n 2,\n 1,\n 1,\n 2,\n 1,\n 1,\n 2,\n 1,\n 1,\n 1,\n 1,\n 1,\n 1,\n 1,\n 1,\n 1,\n 1,\n 1,\n 1,\n 1,\n 1,\n 2,\n 1,\n 1,\n 1,\n 1,\n 1,\n 1,\n 3,\n 1,\n 1,\n 12,\n 5,\n 1,\n 1,\n 1,\n 12,\n 40,\n 1,\n 1,\n 8,\n 2,\n 1,\n 1,\n 1,\n 3,\n 3,\n 3,\n 3,\n 1,\n 1,\n ...]"
     },
     "execution_count": 5,
     "metadata": {},
     "output_type": "execute_result"
    }
   ],
   "source": [
    "list(dict(counter).values())"
   ],
   "metadata": {
    "collapsed": false,
    "pycharm": {
     "name": "#%%\n"
    }
   }
  },
  {
   "cell_type": "code",
   "execution_count": 6,
   "outputs": [
    {
     "data": {
      "text/plain": "(array([1785,    6,    4,    0,    1,    2,    0,    0,    0,    1]),\n array([  1. ,  38.1,  75.2, 112.3, 149.4, 186.5, 223.6, 260.7, 297.8,\n        334.9, 372. ]))"
     },
     "execution_count": 6,
     "metadata": {},
     "output_type": "execute_result"
    }
   ],
   "source": [
    "from functools import reduce\n",
    "import numpy as np\n",
    "\n",
    "np.histogram(list(dict(counter).values()))"
   ],
   "metadata": {
    "collapsed": false,
    "pycharm": {
     "name": "#%%\n"
    }
   }
  }
 ],
 "metadata": {
  "kernelspec": {
   "display_name": "Python 3",
   "language": "python",
   "name": "python3"
  },
  "language_info": {
   "codemirror_mode": {
    "name": "ipython",
    "version": 2
   },
   "file_extension": ".py",
   "mimetype": "text/x-python",
   "name": "python",
   "nbconvert_exporter": "python",
   "pygments_lexer": "ipython2",
   "version": "2.7.6"
  }
 },
 "nbformat": 4,
 "nbformat_minor": 0
}