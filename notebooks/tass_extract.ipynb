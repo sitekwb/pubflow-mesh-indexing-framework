{
 "cells": [
  {
   "cell_type": "code",
   "execution_count": 5,
   "metadata": {
    "collapsed": true
   },
   "outputs": [
    {
     "name": "stderr",
     "output_type": "stream",
     "text": [
      "100%|██████████| 963/963 [4:32:29<00:00, 16.98s/it]  \n"
     ]
    }
   ],
   "source": [
    "import os\n",
    "from typing import List, Optional, Dict\n",
    "import xml.etree.ElementTree as ET\n",
    "from tqdm import tqdm\n",
    "import pandas as pd\n",
    "\n",
    "def get_text(node):\n",
    "    try:\n",
    "        return node.text\n",
    "    except AttributeError:\n",
    "        return None\n",
    "\n",
    "\n",
    "data_dir: str = '/media/wojtek/SanDisk/Medline/all'\n",
    "file_extension: str = '.xml'\n",
    "\n",
    "files: List[str] = os.listdir(data_dir)\n",
    "files: List[str] = list(filter(lambda x: file_extension in x, files))\n",
    "records_json = []\n",
    "records_csv = []\n",
    "with open(f'./out/pubmed.csv', 'w') as fw:\n",
    "    for filename in tqdm(files):\n",
    "        full_filename_path: str = os.path.join(data_dir, filename)\n",
    "        tree = ET.parse(full_filename_path)\n",
    "        root = tree.getroot()\n",
    "        for mc in root.iter('MedlineCitation'):\n",
    "            pmid_str: str = get_text(mc.find('PMID'))\n",
    "            pmid: int = int(pmid_str) if pmid_str and len(pmid_str) > 0 else None\n",
    "            year_str: str = get_text(mc.find('Article/Journal/JournalIssue/PubDate/Year'))\n",
    "            year: int = int(year_str) if year_str and len(year_str) > 0 else None\n",
    "            country: str = get_text(mc.find('MedlineJournalInfo/Country'))\n",
    "            # authors: List[Dict] = []\n",
    "            if year and year > 2016:\n",
    "                for an in mc.findall('Article/AuthorList/Author'):\n",
    "                    orcid = get_text(an.find('Identifier'))\n",
    "                    affiliation = get_text(an.find('AffiliationInfo/Affiliation'))\n",
    "                    # authors.append({\n",
    "                    #     'surname': get_text(an.find('LastName')),\n",
    "                    #     'name': get_text(an.find('ForeName')),\n",
    "                    #     'orcid': orcid,\n",
    "                    #     'affiliation': affiliation,\n",
    "                    # })\n",
    "                    if orcid is not None:\n",
    "                        fw.write(f\"{str(pmid)};{orcid};{affiliation};{year};{country}\\n\")\n",
    "            # records_json.append({\n",
    "            #     'pmid': pmid,\n",
    "            #     'year': year,\n",
    "            #     'authors': authors,\n",
    "            # })\n",
    "        # df = pd.DataFrame(records_csv)\n",
    "        # df.to_csv(f\"./out/{filename}.csv\")"
   ]
  },
  {
   "cell_type": "code",
   "execution_count": 23,
   "outputs": [
    {
     "data": {
      "text/plain": "'grid.1035.7'"
     },
     "execution_count": 23,
     "metadata": {},
     "output_type": "execute_result"
    }
   ],
   "source": [
    "import xml.etree.ElementTree as ET\n",
    "tree = ET.parse('orcid.xml')\n",
    "root = tree.getroot()\n",
    "root.find('.//{http://www.orcid.org/ns/common}disambiguated-organization-identifier').text"
   ],
   "metadata": {
    "collapsed": false,
    "pycharm": {
     "name": "#%%\n"
    }
   }
  },
  {
   "cell_type": "code",
   "execution_count": 32,
   "outputs": [
    {
     "data": {
      "text/plain": "'abc'"
     },
     "execution_count": 32,
     "metadata": {},
     "output_type": "execute_result"
    }
   ],
   "source": [
    "'abc'.split('/')[-1]"
   ],
   "metadata": {
    "collapsed": false,
    "pycharm": {
     "name": "#%%\n"
    }
   }
  },
  {
   "cell_type": "code",
   "execution_count": 28,
   "outputs": [
    {
     "name": "stdout",
     "output_type": "stream",
     "text": [
      "grid.1035.7 PL\n",
      "grid.1035.7 PL\n",
      "grid.1035.7 PL\n",
      "grid.1035.7 PL\n",
      "grid.1035.7 PL\n",
      "grid.1035.7 PL\n",
      "grid.1035.7 PL\n",
      "grid.1035.7 PL\n"
     ]
    },
    {
     "ename": "KeyboardInterrupt",
     "evalue": "",
     "output_type": "error",
     "traceback": [
      "\u001B[0;31m---------------------------------------------------------------------------\u001B[0m",
      "\u001B[0;31mKeyboardInterrupt\u001B[0m                         Traceback (most recent call last)",
      "\u001B[0;32m<ipython-input-28-60869d7c18b0>\u001B[0m in \u001B[0;36m<module>\u001B[0;34m\u001B[0m\n\u001B[1;32m      1\u001B[0m \u001B[0;32mimport\u001B[0m \u001B[0mrequests\u001B[0m\u001B[0;34m\u001B[0m\u001B[0;34m\u001B[0m\u001B[0m\n\u001B[1;32m      2\u001B[0m \u001B[0;32mfor\u001B[0m \u001B[0mi\u001B[0m \u001B[0;32min\u001B[0m \u001B[0mrange\u001B[0m\u001B[0;34m(\u001B[0m\u001B[0;36m100\u001B[0m\u001B[0;34m)\u001B[0m\u001B[0;34m:\u001B[0m\u001B[0;34m\u001B[0m\u001B[0;34m\u001B[0m\u001B[0m\n\u001B[0;32m----> 3\u001B[0;31m     \u001B[0mresponse\u001B[0m \u001B[0;34m=\u001B[0m \u001B[0mrequests\u001B[0m\u001B[0;34m.\u001B[0m\u001B[0mget\u001B[0m\u001B[0;34m(\u001B[0m\u001B[0;34m'https://pub.orcid.org/v3.0/0000-0002-1545-182X/activities'\u001B[0m\u001B[0;34m)\u001B[0m\u001B[0;34m\u001B[0m\u001B[0;34m\u001B[0m\u001B[0m\n\u001B[0m\u001B[1;32m      4\u001B[0m     \u001B[0mroot\u001B[0m \u001B[0;34m=\u001B[0m \u001B[0mET\u001B[0m\u001B[0;34m.\u001B[0m\u001B[0mfromstring\u001B[0m\u001B[0;34m(\u001B[0m\u001B[0mresponse\u001B[0m\u001B[0;34m.\u001B[0m\u001B[0mcontent\u001B[0m\u001B[0;34m)\u001B[0m\u001B[0;34m\u001B[0m\u001B[0;34m\u001B[0m\u001B[0m\n\u001B[1;32m      5\u001B[0m     \u001B[0morg_id\u001B[0m \u001B[0;34m=\u001B[0m \u001B[0mroot\u001B[0m\u001B[0;34m.\u001B[0m\u001B[0mfind\u001B[0m\u001B[0;34m(\u001B[0m\u001B[0;34m'.//{http://www.orcid.org/ns/common}disambiguated-organization-identifier'\u001B[0m\u001B[0;34m)\u001B[0m\u001B[0;34m.\u001B[0m\u001B[0mtext\u001B[0m\u001B[0;34m\u001B[0m\u001B[0;34m\u001B[0m\u001B[0m\n",
      "\u001B[0;32m/usr/local/anaconda3/envs/indexing/lib/python3.8/site-packages/requests/api.py\u001B[0m in \u001B[0;36mget\u001B[0;34m(url, params, **kwargs)\u001B[0m\n\u001B[1;32m     74\u001B[0m \u001B[0;34m\u001B[0m\u001B[0m\n\u001B[1;32m     75\u001B[0m     \u001B[0mkwargs\u001B[0m\u001B[0;34m.\u001B[0m\u001B[0msetdefault\u001B[0m\u001B[0;34m(\u001B[0m\u001B[0;34m'allow_redirects'\u001B[0m\u001B[0;34m,\u001B[0m \u001B[0;32mTrue\u001B[0m\u001B[0;34m)\u001B[0m\u001B[0;34m\u001B[0m\u001B[0;34m\u001B[0m\u001B[0m\n\u001B[0;32m---> 76\u001B[0;31m     \u001B[0;32mreturn\u001B[0m \u001B[0mrequest\u001B[0m\u001B[0;34m(\u001B[0m\u001B[0;34m'get'\u001B[0m\u001B[0;34m,\u001B[0m \u001B[0murl\u001B[0m\u001B[0;34m,\u001B[0m \u001B[0mparams\u001B[0m\u001B[0;34m=\u001B[0m\u001B[0mparams\u001B[0m\u001B[0;34m,\u001B[0m \u001B[0;34m**\u001B[0m\u001B[0mkwargs\u001B[0m\u001B[0;34m)\u001B[0m\u001B[0;34m\u001B[0m\u001B[0;34m\u001B[0m\u001B[0m\n\u001B[0m\u001B[1;32m     77\u001B[0m \u001B[0;34m\u001B[0m\u001B[0m\n\u001B[1;32m     78\u001B[0m \u001B[0;34m\u001B[0m\u001B[0m\n",
      "\u001B[0;32m/usr/local/anaconda3/envs/indexing/lib/python3.8/site-packages/requests/api.py\u001B[0m in \u001B[0;36mrequest\u001B[0;34m(method, url, **kwargs)\u001B[0m\n\u001B[1;32m     59\u001B[0m     \u001B[0;31m# cases, and look like a memory leak in others.\u001B[0m\u001B[0;34m\u001B[0m\u001B[0;34m\u001B[0m\u001B[0;34m\u001B[0m\u001B[0m\n\u001B[1;32m     60\u001B[0m     \u001B[0;32mwith\u001B[0m \u001B[0msessions\u001B[0m\u001B[0;34m.\u001B[0m\u001B[0mSession\u001B[0m\u001B[0;34m(\u001B[0m\u001B[0;34m)\u001B[0m \u001B[0;32mas\u001B[0m \u001B[0msession\u001B[0m\u001B[0;34m:\u001B[0m\u001B[0;34m\u001B[0m\u001B[0;34m\u001B[0m\u001B[0m\n\u001B[0;32m---> 61\u001B[0;31m         \u001B[0;32mreturn\u001B[0m \u001B[0msession\u001B[0m\u001B[0;34m.\u001B[0m\u001B[0mrequest\u001B[0m\u001B[0;34m(\u001B[0m\u001B[0mmethod\u001B[0m\u001B[0;34m=\u001B[0m\u001B[0mmethod\u001B[0m\u001B[0;34m,\u001B[0m \u001B[0murl\u001B[0m\u001B[0;34m=\u001B[0m\u001B[0murl\u001B[0m\u001B[0;34m,\u001B[0m \u001B[0;34m**\u001B[0m\u001B[0mkwargs\u001B[0m\u001B[0;34m)\u001B[0m\u001B[0;34m\u001B[0m\u001B[0;34m\u001B[0m\u001B[0m\n\u001B[0m\u001B[1;32m     62\u001B[0m \u001B[0;34m\u001B[0m\u001B[0m\n\u001B[1;32m     63\u001B[0m \u001B[0;34m\u001B[0m\u001B[0m\n",
      "\u001B[0;32m/usr/local/anaconda3/envs/indexing/lib/python3.8/site-packages/requests/sessions.py\u001B[0m in \u001B[0;36mrequest\u001B[0;34m(self, method, url, params, data, headers, cookies, files, auth, timeout, allow_redirects, proxies, hooks, stream, verify, cert, json)\u001B[0m\n\u001B[1;32m    540\u001B[0m         }\n\u001B[1;32m    541\u001B[0m         \u001B[0msend_kwargs\u001B[0m\u001B[0;34m.\u001B[0m\u001B[0mupdate\u001B[0m\u001B[0;34m(\u001B[0m\u001B[0msettings\u001B[0m\u001B[0;34m)\u001B[0m\u001B[0;34m\u001B[0m\u001B[0;34m\u001B[0m\u001B[0m\n\u001B[0;32m--> 542\u001B[0;31m         \u001B[0mresp\u001B[0m \u001B[0;34m=\u001B[0m \u001B[0mself\u001B[0m\u001B[0;34m.\u001B[0m\u001B[0msend\u001B[0m\u001B[0;34m(\u001B[0m\u001B[0mprep\u001B[0m\u001B[0;34m,\u001B[0m \u001B[0;34m**\u001B[0m\u001B[0msend_kwargs\u001B[0m\u001B[0;34m)\u001B[0m\u001B[0;34m\u001B[0m\u001B[0;34m\u001B[0m\u001B[0m\n\u001B[0m\u001B[1;32m    543\u001B[0m \u001B[0;34m\u001B[0m\u001B[0m\n\u001B[1;32m    544\u001B[0m         \u001B[0;32mreturn\u001B[0m \u001B[0mresp\u001B[0m\u001B[0;34m\u001B[0m\u001B[0;34m\u001B[0m\u001B[0m\n",
      "\u001B[0;32m/usr/local/anaconda3/envs/indexing/lib/python3.8/site-packages/requests/sessions.py\u001B[0m in \u001B[0;36msend\u001B[0;34m(self, request, **kwargs)\u001B[0m\n\u001B[1;32m    653\u001B[0m \u001B[0;34m\u001B[0m\u001B[0m\n\u001B[1;32m    654\u001B[0m         \u001B[0;31m# Send the request\u001B[0m\u001B[0;34m\u001B[0m\u001B[0;34m\u001B[0m\u001B[0;34m\u001B[0m\u001B[0m\n\u001B[0;32m--> 655\u001B[0;31m         \u001B[0mr\u001B[0m \u001B[0;34m=\u001B[0m \u001B[0madapter\u001B[0m\u001B[0;34m.\u001B[0m\u001B[0msend\u001B[0m\u001B[0;34m(\u001B[0m\u001B[0mrequest\u001B[0m\u001B[0;34m,\u001B[0m \u001B[0;34m**\u001B[0m\u001B[0mkwargs\u001B[0m\u001B[0;34m)\u001B[0m\u001B[0;34m\u001B[0m\u001B[0;34m\u001B[0m\u001B[0m\n\u001B[0m\u001B[1;32m    656\u001B[0m \u001B[0;34m\u001B[0m\u001B[0m\n\u001B[1;32m    657\u001B[0m         \u001B[0;31m# Total elapsed time of the request (approximately)\u001B[0m\u001B[0;34m\u001B[0m\u001B[0;34m\u001B[0m\u001B[0;34m\u001B[0m\u001B[0m\n",
      "\u001B[0;32m/usr/local/anaconda3/envs/indexing/lib/python3.8/site-packages/requests/adapters.py\u001B[0m in \u001B[0;36msend\u001B[0;34m(self, request, stream, timeout, verify, cert, proxies)\u001B[0m\n\u001B[1;32m    437\u001B[0m         \u001B[0;32mtry\u001B[0m\u001B[0;34m:\u001B[0m\u001B[0;34m\u001B[0m\u001B[0;34m\u001B[0m\u001B[0m\n\u001B[1;32m    438\u001B[0m             \u001B[0;32mif\u001B[0m \u001B[0;32mnot\u001B[0m \u001B[0mchunked\u001B[0m\u001B[0;34m:\u001B[0m\u001B[0;34m\u001B[0m\u001B[0;34m\u001B[0m\u001B[0m\n\u001B[0;32m--> 439\u001B[0;31m                 resp = conn.urlopen(\n\u001B[0m\u001B[1;32m    440\u001B[0m                     \u001B[0mmethod\u001B[0m\u001B[0;34m=\u001B[0m\u001B[0mrequest\u001B[0m\u001B[0;34m.\u001B[0m\u001B[0mmethod\u001B[0m\u001B[0;34m,\u001B[0m\u001B[0;34m\u001B[0m\u001B[0;34m\u001B[0m\u001B[0m\n\u001B[1;32m    441\u001B[0m                     \u001B[0murl\u001B[0m\u001B[0;34m=\u001B[0m\u001B[0murl\u001B[0m\u001B[0;34m,\u001B[0m\u001B[0;34m\u001B[0m\u001B[0;34m\u001B[0m\u001B[0m\n",
      "\u001B[0;32m/usr/local/anaconda3/envs/indexing/lib/python3.8/site-packages/urllib3/connectionpool.py\u001B[0m in \u001B[0;36murlopen\u001B[0;34m(self, method, url, body, headers, retries, redirect, assert_same_host, timeout, pool_timeout, release_conn, chunked, body_pos, **response_kw)\u001B[0m\n\u001B[1;32m    697\u001B[0m \u001B[0;34m\u001B[0m\u001B[0m\n\u001B[1;32m    698\u001B[0m             \u001B[0;31m# Make the request on the httplib connection object.\u001B[0m\u001B[0;34m\u001B[0m\u001B[0;34m\u001B[0m\u001B[0;34m\u001B[0m\u001B[0m\n\u001B[0;32m--> 699\u001B[0;31m             httplib_response = self._make_request(\n\u001B[0m\u001B[1;32m    700\u001B[0m                 \u001B[0mconn\u001B[0m\u001B[0;34m,\u001B[0m\u001B[0;34m\u001B[0m\u001B[0;34m\u001B[0m\u001B[0m\n\u001B[1;32m    701\u001B[0m                 \u001B[0mmethod\u001B[0m\u001B[0;34m,\u001B[0m\u001B[0;34m\u001B[0m\u001B[0;34m\u001B[0m\u001B[0m\n",
      "\u001B[0;32m/usr/local/anaconda3/envs/indexing/lib/python3.8/site-packages/urllib3/connectionpool.py\u001B[0m in \u001B[0;36m_make_request\u001B[0;34m(self, conn, method, url, timeout, chunked, **httplib_request_kw)\u001B[0m\n\u001B[1;32m    443\u001B[0m                     \u001B[0;31m# Python 3 (including for exceptions like SystemExit).\u001B[0m\u001B[0;34m\u001B[0m\u001B[0;34m\u001B[0m\u001B[0;34m\u001B[0m\u001B[0m\n\u001B[1;32m    444\u001B[0m                     \u001B[0;31m# Otherwise it looks like a bug in the code.\u001B[0m\u001B[0;34m\u001B[0m\u001B[0;34m\u001B[0m\u001B[0;34m\u001B[0m\u001B[0m\n\u001B[0;32m--> 445\u001B[0;31m                     \u001B[0msix\u001B[0m\u001B[0;34m.\u001B[0m\u001B[0mraise_from\u001B[0m\u001B[0;34m(\u001B[0m\u001B[0me\u001B[0m\u001B[0;34m,\u001B[0m \u001B[0;32mNone\u001B[0m\u001B[0;34m)\u001B[0m\u001B[0;34m\u001B[0m\u001B[0;34m\u001B[0m\u001B[0m\n\u001B[0m\u001B[1;32m    446\u001B[0m         \u001B[0;32mexcept\u001B[0m \u001B[0;34m(\u001B[0m\u001B[0mSocketTimeout\u001B[0m\u001B[0;34m,\u001B[0m \u001B[0mBaseSSLError\u001B[0m\u001B[0;34m,\u001B[0m \u001B[0mSocketError\u001B[0m\u001B[0;34m)\u001B[0m \u001B[0;32mas\u001B[0m \u001B[0me\u001B[0m\u001B[0;34m:\u001B[0m\u001B[0;34m\u001B[0m\u001B[0;34m\u001B[0m\u001B[0m\n\u001B[1;32m    447\u001B[0m             \u001B[0mself\u001B[0m\u001B[0;34m.\u001B[0m\u001B[0m_raise_timeout\u001B[0m\u001B[0;34m(\u001B[0m\u001B[0merr\u001B[0m\u001B[0;34m=\u001B[0m\u001B[0me\u001B[0m\u001B[0;34m,\u001B[0m \u001B[0murl\u001B[0m\u001B[0;34m=\u001B[0m\u001B[0murl\u001B[0m\u001B[0;34m,\u001B[0m \u001B[0mtimeout_value\u001B[0m\u001B[0;34m=\u001B[0m\u001B[0mread_timeout\u001B[0m\u001B[0;34m)\u001B[0m\u001B[0;34m\u001B[0m\u001B[0;34m\u001B[0m\u001B[0m\n",
      "\u001B[0;32m/usr/local/anaconda3/envs/indexing/lib/python3.8/site-packages/urllib3/packages/six.py\u001B[0m in \u001B[0;36mraise_from\u001B[0;34m(value, from_value)\u001B[0m\n",
      "\u001B[0;32m/usr/local/anaconda3/envs/indexing/lib/python3.8/site-packages/urllib3/connectionpool.py\u001B[0m in \u001B[0;36m_make_request\u001B[0;34m(self, conn, method, url, timeout, chunked, **httplib_request_kw)\u001B[0m\n\u001B[1;32m    438\u001B[0m                 \u001B[0;31m# Python 3\u001B[0m\u001B[0;34m\u001B[0m\u001B[0;34m\u001B[0m\u001B[0;34m\u001B[0m\u001B[0m\n\u001B[1;32m    439\u001B[0m                 \u001B[0;32mtry\u001B[0m\u001B[0;34m:\u001B[0m\u001B[0;34m\u001B[0m\u001B[0;34m\u001B[0m\u001B[0m\n\u001B[0;32m--> 440\u001B[0;31m                     \u001B[0mhttplib_response\u001B[0m \u001B[0;34m=\u001B[0m \u001B[0mconn\u001B[0m\u001B[0;34m.\u001B[0m\u001B[0mgetresponse\u001B[0m\u001B[0;34m(\u001B[0m\u001B[0;34m)\u001B[0m\u001B[0;34m\u001B[0m\u001B[0;34m\u001B[0m\u001B[0m\n\u001B[0m\u001B[1;32m    441\u001B[0m                 \u001B[0;32mexcept\u001B[0m \u001B[0mBaseException\u001B[0m \u001B[0;32mas\u001B[0m \u001B[0me\u001B[0m\u001B[0;34m:\u001B[0m\u001B[0;34m\u001B[0m\u001B[0;34m\u001B[0m\u001B[0m\n\u001B[1;32m    442\u001B[0m                     \u001B[0;31m# Remove the TypeError from the exception chain in\u001B[0m\u001B[0;34m\u001B[0m\u001B[0;34m\u001B[0m\u001B[0;34m\u001B[0m\u001B[0m\n",
      "\u001B[0;32m/usr/local/anaconda3/envs/indexing/lib/python3.8/http/client.py\u001B[0m in \u001B[0;36mgetresponse\u001B[0;34m(self)\u001B[0m\n\u001B[1;32m   1345\u001B[0m         \u001B[0;32mtry\u001B[0m\u001B[0;34m:\u001B[0m\u001B[0;34m\u001B[0m\u001B[0;34m\u001B[0m\u001B[0m\n\u001B[1;32m   1346\u001B[0m             \u001B[0;32mtry\u001B[0m\u001B[0;34m:\u001B[0m\u001B[0;34m\u001B[0m\u001B[0;34m\u001B[0m\u001B[0m\n\u001B[0;32m-> 1347\u001B[0;31m                 \u001B[0mresponse\u001B[0m\u001B[0;34m.\u001B[0m\u001B[0mbegin\u001B[0m\u001B[0;34m(\u001B[0m\u001B[0;34m)\u001B[0m\u001B[0;34m\u001B[0m\u001B[0;34m\u001B[0m\u001B[0m\n\u001B[0m\u001B[1;32m   1348\u001B[0m             \u001B[0;32mexcept\u001B[0m \u001B[0mConnectionError\u001B[0m\u001B[0;34m:\u001B[0m\u001B[0;34m\u001B[0m\u001B[0;34m\u001B[0m\u001B[0m\n\u001B[1;32m   1349\u001B[0m                 \u001B[0mself\u001B[0m\u001B[0;34m.\u001B[0m\u001B[0mclose\u001B[0m\u001B[0;34m(\u001B[0m\u001B[0;34m)\u001B[0m\u001B[0;34m\u001B[0m\u001B[0;34m\u001B[0m\u001B[0m\n",
      "\u001B[0;32m/usr/local/anaconda3/envs/indexing/lib/python3.8/http/client.py\u001B[0m in \u001B[0;36mbegin\u001B[0;34m(self)\u001B[0m\n\u001B[1;32m    305\u001B[0m         \u001B[0;31m# read until we get a non-100 response\u001B[0m\u001B[0;34m\u001B[0m\u001B[0;34m\u001B[0m\u001B[0;34m\u001B[0m\u001B[0m\n\u001B[1;32m    306\u001B[0m         \u001B[0;32mwhile\u001B[0m \u001B[0;32mTrue\u001B[0m\u001B[0;34m:\u001B[0m\u001B[0;34m\u001B[0m\u001B[0;34m\u001B[0m\u001B[0m\n\u001B[0;32m--> 307\u001B[0;31m             \u001B[0mversion\u001B[0m\u001B[0;34m,\u001B[0m \u001B[0mstatus\u001B[0m\u001B[0;34m,\u001B[0m \u001B[0mreason\u001B[0m \u001B[0;34m=\u001B[0m \u001B[0mself\u001B[0m\u001B[0;34m.\u001B[0m\u001B[0m_read_status\u001B[0m\u001B[0;34m(\u001B[0m\u001B[0;34m)\u001B[0m\u001B[0;34m\u001B[0m\u001B[0;34m\u001B[0m\u001B[0m\n\u001B[0m\u001B[1;32m    308\u001B[0m             \u001B[0;32mif\u001B[0m \u001B[0mstatus\u001B[0m \u001B[0;34m!=\u001B[0m \u001B[0mCONTINUE\u001B[0m\u001B[0;34m:\u001B[0m\u001B[0;34m\u001B[0m\u001B[0;34m\u001B[0m\u001B[0m\n\u001B[1;32m    309\u001B[0m                 \u001B[0;32mbreak\u001B[0m\u001B[0;34m\u001B[0m\u001B[0;34m\u001B[0m\u001B[0m\n",
      "\u001B[0;32m/usr/local/anaconda3/envs/indexing/lib/python3.8/http/client.py\u001B[0m in \u001B[0;36m_read_status\u001B[0;34m(self)\u001B[0m\n\u001B[1;32m    266\u001B[0m \u001B[0;34m\u001B[0m\u001B[0m\n\u001B[1;32m    267\u001B[0m     \u001B[0;32mdef\u001B[0m \u001B[0m_read_status\u001B[0m\u001B[0;34m(\u001B[0m\u001B[0mself\u001B[0m\u001B[0;34m)\u001B[0m\u001B[0;34m:\u001B[0m\u001B[0;34m\u001B[0m\u001B[0;34m\u001B[0m\u001B[0m\n\u001B[0;32m--> 268\u001B[0;31m         \u001B[0mline\u001B[0m \u001B[0;34m=\u001B[0m \u001B[0mstr\u001B[0m\u001B[0;34m(\u001B[0m\u001B[0mself\u001B[0m\u001B[0;34m.\u001B[0m\u001B[0mfp\u001B[0m\u001B[0;34m.\u001B[0m\u001B[0mreadline\u001B[0m\u001B[0;34m(\u001B[0m\u001B[0m_MAXLINE\u001B[0m \u001B[0;34m+\u001B[0m \u001B[0;36m1\u001B[0m\u001B[0;34m)\u001B[0m\u001B[0;34m,\u001B[0m \u001B[0;34m\"iso-8859-1\"\u001B[0m\u001B[0;34m)\u001B[0m\u001B[0;34m\u001B[0m\u001B[0;34m\u001B[0m\u001B[0m\n\u001B[0m\u001B[1;32m    269\u001B[0m         \u001B[0;32mif\u001B[0m \u001B[0mlen\u001B[0m\u001B[0;34m(\u001B[0m\u001B[0mline\u001B[0m\u001B[0;34m)\u001B[0m \u001B[0;34m>\u001B[0m \u001B[0m_MAXLINE\u001B[0m\u001B[0;34m:\u001B[0m\u001B[0;34m\u001B[0m\u001B[0;34m\u001B[0m\u001B[0m\n\u001B[1;32m    270\u001B[0m             \u001B[0;32mraise\u001B[0m \u001B[0mLineTooLong\u001B[0m\u001B[0;34m(\u001B[0m\u001B[0;34m\"status line\"\u001B[0m\u001B[0;34m)\u001B[0m\u001B[0;34m\u001B[0m\u001B[0;34m\u001B[0m\u001B[0m\n",
      "\u001B[0;32m/usr/local/anaconda3/envs/indexing/lib/python3.8/socket.py\u001B[0m in \u001B[0;36mreadinto\u001B[0;34m(self, b)\u001B[0m\n\u001B[1;32m    667\u001B[0m         \u001B[0;32mwhile\u001B[0m \u001B[0;32mTrue\u001B[0m\u001B[0;34m:\u001B[0m\u001B[0;34m\u001B[0m\u001B[0;34m\u001B[0m\u001B[0m\n\u001B[1;32m    668\u001B[0m             \u001B[0;32mtry\u001B[0m\u001B[0;34m:\u001B[0m\u001B[0;34m\u001B[0m\u001B[0;34m\u001B[0m\u001B[0m\n\u001B[0;32m--> 669\u001B[0;31m                 \u001B[0;32mreturn\u001B[0m \u001B[0mself\u001B[0m\u001B[0;34m.\u001B[0m\u001B[0m_sock\u001B[0m\u001B[0;34m.\u001B[0m\u001B[0mrecv_into\u001B[0m\u001B[0;34m(\u001B[0m\u001B[0mb\u001B[0m\u001B[0;34m)\u001B[0m\u001B[0;34m\u001B[0m\u001B[0;34m\u001B[0m\u001B[0m\n\u001B[0m\u001B[1;32m    670\u001B[0m             \u001B[0;32mexcept\u001B[0m \u001B[0mtimeout\u001B[0m\u001B[0;34m:\u001B[0m\u001B[0;34m\u001B[0m\u001B[0;34m\u001B[0m\u001B[0m\n\u001B[1;32m    671\u001B[0m                 \u001B[0mself\u001B[0m\u001B[0;34m.\u001B[0m\u001B[0m_timeout_occurred\u001B[0m \u001B[0;34m=\u001B[0m \u001B[0;32mTrue\u001B[0m\u001B[0;34m\u001B[0m\u001B[0;34m\u001B[0m\u001B[0m\n",
      "\u001B[0;32m/usr/local/anaconda3/envs/indexing/lib/python3.8/ssl.py\u001B[0m in \u001B[0;36mrecv_into\u001B[0;34m(self, buffer, nbytes, flags)\u001B[0m\n\u001B[1;32m   1239\u001B[0m                   \u001B[0;34m\"non-zero flags not allowed in calls to recv_into() on %s\"\u001B[0m \u001B[0;34m%\u001B[0m\u001B[0;34m\u001B[0m\u001B[0;34m\u001B[0m\u001B[0m\n\u001B[1;32m   1240\u001B[0m                   self.__class__)\n\u001B[0;32m-> 1241\u001B[0;31m             \u001B[0;32mreturn\u001B[0m \u001B[0mself\u001B[0m\u001B[0;34m.\u001B[0m\u001B[0mread\u001B[0m\u001B[0;34m(\u001B[0m\u001B[0mnbytes\u001B[0m\u001B[0;34m,\u001B[0m \u001B[0mbuffer\u001B[0m\u001B[0;34m)\u001B[0m\u001B[0;34m\u001B[0m\u001B[0;34m\u001B[0m\u001B[0m\n\u001B[0m\u001B[1;32m   1242\u001B[0m         \u001B[0;32melse\u001B[0m\u001B[0;34m:\u001B[0m\u001B[0;34m\u001B[0m\u001B[0;34m\u001B[0m\u001B[0m\n\u001B[1;32m   1243\u001B[0m             \u001B[0;32mreturn\u001B[0m \u001B[0msuper\u001B[0m\u001B[0;34m(\u001B[0m\u001B[0;34m)\u001B[0m\u001B[0;34m.\u001B[0m\u001B[0mrecv_into\u001B[0m\u001B[0;34m(\u001B[0m\u001B[0mbuffer\u001B[0m\u001B[0;34m,\u001B[0m \u001B[0mnbytes\u001B[0m\u001B[0;34m,\u001B[0m \u001B[0mflags\u001B[0m\u001B[0;34m)\u001B[0m\u001B[0;34m\u001B[0m\u001B[0;34m\u001B[0m\u001B[0m\n",
      "\u001B[0;32m/usr/local/anaconda3/envs/indexing/lib/python3.8/ssl.py\u001B[0m in \u001B[0;36mread\u001B[0;34m(self, len, buffer)\u001B[0m\n\u001B[1;32m   1097\u001B[0m         \u001B[0;32mtry\u001B[0m\u001B[0;34m:\u001B[0m\u001B[0;34m\u001B[0m\u001B[0;34m\u001B[0m\u001B[0m\n\u001B[1;32m   1098\u001B[0m             \u001B[0;32mif\u001B[0m \u001B[0mbuffer\u001B[0m \u001B[0;32mis\u001B[0m \u001B[0;32mnot\u001B[0m \u001B[0;32mNone\u001B[0m\u001B[0;34m:\u001B[0m\u001B[0;34m\u001B[0m\u001B[0;34m\u001B[0m\u001B[0m\n\u001B[0;32m-> 1099\u001B[0;31m                 \u001B[0;32mreturn\u001B[0m \u001B[0mself\u001B[0m\u001B[0;34m.\u001B[0m\u001B[0m_sslobj\u001B[0m\u001B[0;34m.\u001B[0m\u001B[0mread\u001B[0m\u001B[0;34m(\u001B[0m\u001B[0mlen\u001B[0m\u001B[0;34m,\u001B[0m \u001B[0mbuffer\u001B[0m\u001B[0;34m)\u001B[0m\u001B[0;34m\u001B[0m\u001B[0;34m\u001B[0m\u001B[0m\n\u001B[0m\u001B[1;32m   1100\u001B[0m             \u001B[0;32melse\u001B[0m\u001B[0;34m:\u001B[0m\u001B[0;34m\u001B[0m\u001B[0;34m\u001B[0m\u001B[0m\n\u001B[1;32m   1101\u001B[0m                 \u001B[0;32mreturn\u001B[0m \u001B[0mself\u001B[0m\u001B[0;34m.\u001B[0m\u001B[0m_sslobj\u001B[0m\u001B[0;34m.\u001B[0m\u001B[0mread\u001B[0m\u001B[0;34m(\u001B[0m\u001B[0mlen\u001B[0m\u001B[0;34m)\u001B[0m\u001B[0;34m\u001B[0m\u001B[0;34m\u001B[0m\u001B[0m\n",
      "\u001B[0;31mKeyboardInterrupt\u001B[0m: "
     ]
    }
   ],
   "source": [
    "import xml.etree.ElementTree as ET\n",
    "import requests\n",
    "with open('./out/pubmed_no_aff.csv') as f:\n",
    "    with open('./out/pubmed_from_orcid.csv', 'w') as fw:\n",
    "        fw.write(f\"pmid;orcid;aff_id_from_orcid;year;country_from_orcid\\n\")\n",
    "        for line in tqdm(f, total=666713):\n",
    "            try:\n",
    "                pmid, orcid, year, affiliation_id, country_cleaned = line.split(';')\n",
    "                response = requests.get(f'https://pub.orcid.org/v3.0/{orcid}/activities')\n",
    "                root = ET.fromstring(response.content)\n",
    "                org_id = root.find('.//{http://www.orcid.org/ns/common}disambiguated-organization-identifier').text\n",
    "                country = root.find('.//{http://www.orcid.org/ns/common}country').text\n",
    "                fw.write(f\"{str(pmid)};{orcid};{org_id};{year};{country}\\n\")\n",
    "            except:\n",
    "                continue\n",
    "    print(org_id, country)"
   ],
   "metadata": {
    "collapsed": false,
    "pycharm": {
     "name": "#%%\n"
    }
   }
  },
  {
   "cell_type": "code",
   "execution_count": 25,
   "outputs": [
    {
     "data": {
      "text/plain": "b'<?xml version=\"1.0\" encoding=\"UTF-8\" standalone=\"yes\"?>\\n<activities:activities-summary path=\"/0000-0002-1545-182X/activities\" xmlns:internal=\"http://www.orcid.org/ns/internal\" xmlns:education=\"http://www.orcid.org/ns/education\" xmlns:distinction=\"http://www.orcid.org/ns/distinction\" xmlns:deprecated=\"http://www.orcid.org/ns/deprecated\" xmlns:other-name=\"http://www.orcid.org/ns/other-name\" xmlns:membership=\"http://www.orcid.org/ns/membership\" xmlns:error=\"http://www.orcid.org/ns/error\" xmlns:common=\"http://www.orcid.org/ns/common\" xmlns:record=\"http://www.orcid.org/ns/record\" xmlns:personal-details=\"http://www.orcid.org/ns/personal-details\" xmlns:keyword=\"http://www.orcid.org/ns/keyword\" xmlns:email=\"http://www.orcid.org/ns/email\" xmlns:external-identifier=\"http://www.orcid.org/ns/external-identifier\" xmlns:funding=\"http://www.orcid.org/ns/funding\" xmlns:preferences=\"http://www.orcid.org/ns/preferences\" xmlns:address=\"http://www.orcid.org/ns/address\" xmlns:invited-position=\"http://www.orcid.org/ns/invited-position\" xmlns:work=\"http://www.orcid.org/ns/work\" xmlns:history=\"http://www.orcid.org/ns/history\" xmlns:employment=\"http://www.orcid.org/ns/employment\" xmlns:qualification=\"http://www.orcid.org/ns/qualification\" xmlns:service=\"http://www.orcid.org/ns/service\" xmlns:person=\"http://www.orcid.org/ns/person\" xmlns:activities=\"http://www.orcid.org/ns/activities\" xmlns:researcher-url=\"http://www.orcid.org/ns/researcher-url\" xmlns:peer-review=\"http://www.orcid.org/ns/peer-review\" xmlns:bulk=\"http://www.orcid.org/ns/bulk\" xmlns:research-resource=\"http://www.orcid.org/ns/research-resource\">\\n    <common:last-modified-date>2022-01-07T14:00:59.078Z</common:last-modified-date>\\n    <activities:distinctions path=\"/0000-0002-1545-182X/distinctions\"/>\\n    <activities:educations path=\"/0000-0002-1545-182X/educations\">\\n        <common:last-modified-date>2022-01-07T14:00:59.078Z</common:last-modified-date>\\n        <activities:affiliation-group>\\n            <common:last-modified-date>2022-01-07T14:00:59.078Z</common:last-modified-date>\\n            <common:external-ids/>\\n            <education:education-summary put-code=\"16737460\" display-index=\"1\" path=\"/0000-0002-1545-182X/education/16737460\" visibility=\"public\">\\n                <common:created-date>2022-01-07T14:00:10.910Z</common:created-date>\\n                <common:last-modified-date>2022-01-07T14:00:59.078Z</common:last-modified-date>\\n                <common:source>\\n                    <common:source-orcid>\\n                        <common:uri>https://orcid.org/0000-0002-1545-182X</common:uri>\\n                        <common:path>0000-0002-1545-182X</common:path>\\n                        <common:host>orcid.org</common:host>\\n                    </common:source-orcid>\\n                    <common:source-name>Wojciech Bronis\\xc5\\x82aw Sitek</common:source-name>\\n                </common:source>\\n                <common:department-name>Institute of Computer Science</common:department-name>\\n                <common:role-title>Master student at Computer Science, Artificial Intelligence</common:role-title>\\n                <common:start-date>\\n                    <common:year>2021</common:year>\\n                    <common:month>03</common:month>\\n                    <common:day>01</common:day>\\n                </common:start-date>\\n                <common:end-date>\\n                    <common:year>2022</common:year>\\n                    <common:month>06</common:month>\\n                    <common:day>30</common:day>\\n                </common:end-date>\\n                <common:organization>\\n                    <common:name>Warsaw University of Technology</common:name>\\n                    <common:address>\\n                        <common:city>Warsaw</common:city>\\n                        <common:country>PL</common:country>\\n                    </common:address>\\n                    <common:disambiguated-organization>\\n                        <common:disambiguated-organization-identifier>grid.1035.7</common:disambiguated-organization-identifier>\\n                        <common:disambiguation-source>GRID</common:disambiguation-source>\\n                    </common:disambiguated-organization>\\n                </common:organization>\\n            </education:education-summary>\\n        </activities:affiliation-group>\\n        <activities:affiliation-group>\\n            <common:last-modified-date>2022-01-07T13:59:21.166Z</common:last-modified-date>\\n            <common:external-ids/>\\n            <education:education-summary put-code=\"16737452\" display-index=\"1\" path=\"/0000-0002-1545-182X/education/16737452\" visibility=\"public\">\\n                <common:created-date>2022-01-07T13:59:21.166Z</common:created-date>\\n                <common:last-modified-date>2022-01-07T13:59:21.166Z</common:last-modified-date>\\n                <common:source>\\n                    <common:source-orcid>\\n                        <common:uri>https://orcid.org/0000-0002-1545-182X</common:uri>\\n                        <common:path>0000-0002-1545-182X</common:path>\\n                        <common:host>orcid.org</common:host>\\n                    </common:source-orcid>\\n                    <common:source-name>Wojciech Bronis\\xc5\\x82aw Sitek</common:source-name>\\n                </common:source>\\n                <common:department-name>Institute of Computer Science</common:department-name>\\n                <common:role-title>Bachelor of Engineering</common:role-title>\\n                <common:start-date>\\n                    <common:year>2017</common:year>\\n                    <common:month>10</common:month>\\n                    <common:day>01</common:day>\\n                </common:start-date>\\n                <common:end-date>\\n                    <common:year>2021</common:year>\\n                    <common:month>02</common:month>\\n                    <common:day>16</common:day>\\n                </common:end-date>\\n                <common:organization>\\n                    <common:name>Warsaw University of Technology</common:name>\\n                    <common:address>\\n                        <common:city>Warsaw</common:city>\\n                        <common:country>PL</common:country>\\n                    </common:address>\\n                    <common:disambiguated-organization>\\n                        <common:disambiguated-organization-identifier>grid.1035.7</common:disambiguated-organization-identifier>\\n                        <common:disambiguation-source>GRID</common:disambiguation-source>\\n                    </common:disambiguated-organization>\\n                </common:organization>\\n            </education:education-summary>\\n        </activities:affiliation-group>\\n    </activities:educations>\\n    <activities:employments path=\"/0000-0002-1545-182X/employments\">\\n        <common:last-modified-date>2022-01-07T13:58:18.533Z</common:last-modified-date>\\n        <activities:affiliation-group>\\n            <common:last-modified-date>2022-01-07T13:58:18.533Z</common:last-modified-date>\\n            <common:external-ids/>\\n            <employment:employment-summary put-code=\"16737448\" display-index=\"1\" path=\"/0000-0002-1545-182X/employment/16737448\" visibility=\"public\">\\n                <common:created-date>2022-01-07T13:58:18.533Z</common:created-date>\\n                <common:last-modified-date>2022-01-07T13:58:18.533Z</common:last-modified-date>\\n                <common:source>\\n                    <common:source-orcid>\\n                        <common:uri>https://orcid.org/0000-0002-1545-182X</common:uri>\\n                        <common:path>0000-0002-1545-182X</common:path>\\n                        <common:host>orcid.org</common:host>\\n                    </common:source-orcid>\\n                    <common:source-name>Wojciech Bronis\\xc5\\x82aw Sitek</common:source-name>\\n                </common:source>\\n                <common:department-name>Institute of Computer Science</common:department-name>\\n                <common:role-title>IT Specialist</common:role-title>\\n                <common:start-date>\\n                    <common:year>2021</common:year>\\n                    <common:month>07</common:month>\\n                    <common:day>01</common:day>\\n                </common:start-date>\\n                <common:organization>\\n                    <common:name>Warsaw University of Technology</common:name>\\n                    <common:address>\\n                        <common:city>Warsaw</common:city>\\n                        <common:country>PL</common:country>\\n                    </common:address>\\n                    <common:disambiguated-organization>\\n                        <common:disambiguated-organization-identifier>grid.1035.7</common:disambiguated-organization-identifier>\\n                        <common:disambiguation-source>GRID</common:disambiguation-source>\\n                    </common:disambiguated-organization>\\n                </common:organization>\\n                <common:url>https://repo.pw.edu.pl/info/author/WUT59b14ecd9a09430fb5310aed04197890/</common:url>\\n            </employment:employment-summary>\\n        </activities:affiliation-group>\\n    </activities:employments>\\n    <activities:fundings path=\"/0000-0002-1545-182X/fundings\"/>\\n    <activities:invited-positions path=\"/0000-0002-1545-182X/invited-positions\"/>\\n    <activities:memberships path=\"/0000-0002-1545-182X/memberships\"/>\\n    <activities:peer-reviews path=\"/0000-0002-1545-182X/peer-reviews\"/>\\n    <activities:qualifications path=\"/0000-0002-1545-182X/qualifications\"/>\\n    <activities:research-resources path=\"/0000-0002-1545-182X/research-resources\"/>\\n    <activities:services path=\"/0000-0002-1545-182X/services\"/>\\n    <activities:works path=\"/0000-0002-1545-182X/works\">\\n        <common:last-modified-date>2021-12-07T11:44:53.740Z</common:last-modified-date>\\n        <activities:group>\\n            <common:last-modified-date>2021-12-07T11:44:53.740Z</common:last-modified-date>\\n            <common:external-ids>\\n                <common:external-id>\\n                    <common:external-id-type>doi</common:external-id-type>\\n                    <common:external-id-value>10.13166/WSGE//VZHR8757</common:external-id-value>\\n                    <common:external-id-normalized transient=\"true\">10.13166/wsge//vzhr8757</common:external-id-normalized>\\n                    <common:external-id-url>https://doi.org/10.13166/WSGE//VZHR8757</common:external-id-url>\\n                    <common:external-id-relationship>self</common:external-id-relationship>\\n                </common:external-id>\\n            </common:external-ids>\\n            <work:work-summary put-code=\"104361501\" path=\"/0000-0002-1545-182X/work/104361501\" visibility=\"public\" display-index=\"0\">\\n                <common:created-date>2021-12-07T11:44:53.740Z</common:created-date>\\n                <common:last-modified-date>2021-12-07T11:44:53.740Z</common:last-modified-date>\\n                <common:source>\\n                    <common:source-client-id>\\n                        <common:uri>https://orcid.org/client/0000-0001-9884-1913</common:uri>\\n                        <common:path>0000-0001-9884-1913</common:path>\\n                        <common:host>orcid.org</common:host>\\n                    </common:source-client-id>\\n                    <common:source-name>Crossref</common:source-name>\\n                </common:source>\\n                <work:title>\\n                    <common:title>Information retrieval against the human right to privacy</common:title>\\n                </work:title>\\n                <common:external-ids>\\n                    <common:external-id>\\n                        <common:external-id-type>doi</common:external-id-type>\\n                        <common:external-id-value>10.13166/WSGE//VZHR8757</common:external-id-value>\\n                        <common:external-id-normalized transient=\"true\">10.13166/wsge//vzhr8757</common:external-id-normalized>\\n                        <common:external-id-url>https://doi.org/10.13166/WSGE//VZHR8757</common:external-id-url>\\n                        <common:external-id-relationship>self</common:external-id-relationship>\\n                    </common:external-id>\\n                </common:external-ids>\\n                <common:url>https://doi.org/10.13166/WSGE//VZHR8757</common:url>\\n                <work:type>book-chapter</work:type>\\n                <common:publication-date>\\n                    <common:year>2021</common:year>\\n                    <common:month>12</common:month>\\n                    <common:day>02</common:day>\\n                </common:publication-date>\\n            </work:work-summary>\\n        </activities:group>\\n    </activities:works>\\n</activities:activities-summary>\\n'"
     },
     "execution_count": 25,
     "metadata": {},
     "output_type": "execute_result"
    }
   ],
   "source": [],
   "metadata": {
    "collapsed": false,
    "pycharm": {
     "name": "#%%\n"
    }
   }
  },
  {
   "cell_type": "code",
   "execution_count": 15,
   "outputs": [
    {
     "name": "stderr",
     "output_type": "stream",
     "text": [
      "<ipython-input-15-4340fffdc6c9>:1: DeprecationWarning: This method will be removed in future versions.  Use 'list(elem)' or iteration over elem instead.\n",
      "  root.getchildren()\n"
     ]
    },
    {
     "data": {
      "text/plain": "[<Element '{http://www.orcid.org/ns/common}last-modified-date' at 0x7fd087486130>,\n <Element '{http://www.orcid.org/ns/activities}distinctions' at 0x7fd0874864a0>,\n <Element '{http://www.orcid.org/ns/activities}educations' at 0x7fd0874ae9f0>,\n <Element '{http://www.orcid.org/ns/activities}employments' at 0x7fd0874b7ea0>,\n <Element '{http://www.orcid.org/ns/activities}fundings' at 0x7fd0874ba3b0>,\n <Element '{http://www.orcid.org/ns/activities}invited-positions' at 0x7fd0874ba400>,\n <Element '{http://www.orcid.org/ns/activities}memberships' at 0x7fd0874ba4a0>,\n <Element '{http://www.orcid.org/ns/activities}peer-reviews' at 0x7fd0874ba540>,\n <Element '{http://www.orcid.org/ns/activities}qualifications' at 0x7fd0874ba590>,\n <Element '{http://www.orcid.org/ns/activities}research-resources' at 0x7fd0874ba5e0>,\n <Element '{http://www.orcid.org/ns/activities}services' at 0x7fd0874ba6d0>,\n <Element '{http://www.orcid.org/ns/activities}works' at 0x7fd0874ba7c0>]"
     },
     "execution_count": 15,
     "metadata": {},
     "output_type": "execute_result"
    }
   ],
   "source": [
    "root.getchildren()"
   ],
   "metadata": {
    "collapsed": false,
    "pycharm": {
     "name": "#%%\n"
    }
   }
  },
  {
   "cell_type": "code",
   "execution_count": 37,
   "outputs": [
    {
     "name": "stderr",
     "output_type": "stream",
     "text": [
      "2947134it [00:03, 978097.68it/s]\n"
     ]
    }
   ],
   "source": [
    "from tqdm import tqdm\n",
    "\n",
    "aff_to_num = dict()\n",
    "current_index = 0\n",
    "with open(f'./out/pubmed_no_aff.csv', 'w') as f_cleaned:\n",
    "    with open(f'./out/pubmed.csv') as fw:\n",
    "        f_cleaned.write(f\"pmid;orcid;year;affiliation_id;country_cleaned\\n\")\n",
    "        for line in tqdm(fw):\n",
    "            try:\n",
    "                pmid, orcid, affiliation, year, country = line.split(';')\n",
    "            except ValueError:\n",
    "                continue\n",
    "\n",
    "            if 'USA' in affiliation:\n",
    "                country_cleaned = 'USA'\n",
    "            elif 'UK' in affiliation:\n",
    "                country_cleaned = 'UK'\n",
    "            elif 'Italy' in affiliation:\n",
    "                country_cleaned = 'Italy'\n",
    "            elif 'Poland' in affiliation:\n",
    "                country_cleaned = 'Poland'\n",
    "            else:\n",
    "                continue\n",
    "            if affiliation not in aff_to_num:\n",
    "                aff_to_num[affiliation] = current_index\n",
    "                current_index += 1\n",
    "            f_cleaned.write(f\"{pmid};{orcid};{year};{aff_to_num[affiliation]};{country_cleaned}\\n\")\n"
   ],
   "metadata": {
    "collapsed": false,
    "pycharm": {
     "name": "#%%\n"
    }
   }
  },
  {
   "cell_type": "code",
   "execution_count": 1,
   "outputs": [
    {
     "ename": "AttributeError",
     "evalue": "'NoneType' object has no attribute 'attrs'",
     "output_type": "error",
     "traceback": [
      "\u001B[0;31m---------------------------------------------------------------------------\u001B[0m",
      "\u001B[0;31mAttributeError\u001B[0m                            Traceback (most recent call last)",
      "\u001B[0;32m/tmp/ipykernel_30321/3012129848.py\u001B[0m in \u001B[0;36m<module>\u001B[0;34m\u001B[0m\n\u001B[1;32m      6\u001B[0m \u001B[0;34m\u001B[0m\u001B[0m\n\u001B[1;32m      7\u001B[0m \u001B[0mapi\u001B[0m \u001B[0;34m=\u001B[0m \u001B[0morcid\u001B[0m\u001B[0;34m.\u001B[0m\u001B[0mPublicAPI\u001B[0m\u001B[0;34m(\u001B[0m\u001B[0mkey\u001B[0m\u001B[0;34m,\u001B[0m \u001B[0msecret\u001B[0m\u001B[0;34m,\u001B[0m \u001B[0msandbox\u001B[0m\u001B[0;34m=\u001B[0m\u001B[0;32mTrue\u001B[0m\u001B[0;34m)\u001B[0m\u001B[0;34m\u001B[0m\u001B[0;34m\u001B[0m\u001B[0m\n\u001B[0;32m----> 8\u001B[0;31m \u001B[0mtoken\u001B[0m \u001B[0;34m=\u001B[0m \u001B[0mapi\u001B[0m\u001B[0;34m.\u001B[0m\u001B[0mget_token\u001B[0m\u001B[0;34m(\u001B[0m\u001B[0;34m'sitekwb@gmail.com'\u001B[0m\u001B[0;34m,\u001B[0m \u001B[0;34m'gerzaw-kUnde8-pogcef'\u001B[0m\u001B[0;34m,\u001B[0m \u001B[0;34m'https://pub.orcid.org'\u001B[0m\u001B[0;34m)\u001B[0m\u001B[0;34m\u001B[0m\u001B[0;34m\u001B[0m\u001B[0m\n\u001B[0m\u001B[1;32m      9\u001B[0m \u001B[0mapi\u001B[0m\u001B[0;34m.\u001B[0m\u001B[0mread_record_public\u001B[0m\u001B[0;34m(\u001B[0m\u001B[0;34m'0000-0001-8338-852X'\u001B[0m\u001B[0;34m,\u001B[0m \u001B[0;34m'ringgold-org-id'\u001B[0m\u001B[0;34m,\u001B[0m \u001B[0mtoken\u001B[0m\u001B[0;34m)\u001B[0m\u001B[0;34m\u001B[0m\u001B[0;34m\u001B[0m\u001B[0m\n",
      "\u001B[0;32m~/anaconda3/envs/indexing/lib/python3.9/site-packages/orcid/orcid.py\u001B[0m in \u001B[0;36mget_token\u001B[0;34m(self, user_id, password, redirect_uri, scope)\u001B[0m\n\u001B[1;32m    259\u001B[0m             \u001B[0mThe\u001B[0m \u001B[0mtoken\u001B[0m\u001B[0;34m.\u001B[0m\u001B[0;34m\u001B[0m\u001B[0;34m\u001B[0m\u001B[0m\n\u001B[1;32m    260\u001B[0m         \"\"\"\n\u001B[0;32m--> 261\u001B[0;31m         response = self._authenticate(user_id, password, redirect_uri,\n\u001B[0m\u001B[1;32m    262\u001B[0m                                       scope)\n\u001B[1;32m    263\u001B[0m         \u001B[0;32mreturn\u001B[0m \u001B[0mresponse\u001B[0m\u001B[0;34m[\u001B[0m\u001B[0;34m'access_token'\u001B[0m\u001B[0;34m]\u001B[0m\u001B[0;34m\u001B[0m\u001B[0;34m\u001B[0m\u001B[0m\n",
      "\u001B[0;32m~/anaconda3/envs/indexing/lib/python3.9/site-packages/orcid/orcid.py\u001B[0m in \u001B[0;36m_authenticate\u001B[0;34m(self, user_id, password, redirect_uri, scope)\u001B[0m\n\u001B[1;32m    347\u001B[0m \u001B[0;34m\u001B[0m\u001B[0m\n\u001B[1;32m    348\u001B[0m         \u001B[0msoup\u001B[0m \u001B[0;34m=\u001B[0m \u001B[0mBeautifulSoup\u001B[0m\u001B[0;34m(\u001B[0m\u001B[0mresponse\u001B[0m\u001B[0;34m.\u001B[0m\u001B[0mcontent\u001B[0m\u001B[0;34m,\u001B[0m \u001B[0;34m'html5lib'\u001B[0m\u001B[0;34m)\u001B[0m\u001B[0;34m\u001B[0m\u001B[0;34m\u001B[0m\u001B[0m\n\u001B[0;32m--> 349\u001B[0;31m         \u001B[0mcsrf\u001B[0m \u001B[0;34m=\u001B[0m \u001B[0msoup\u001B[0m\u001B[0;34m.\u001B[0m\u001B[0mfind\u001B[0m\u001B[0;34m(\u001B[0m\u001B[0mattrs\u001B[0m\u001B[0;34m=\u001B[0m\u001B[0;34m{\u001B[0m\u001B[0;34m'name'\u001B[0m\u001B[0;34m:\u001B[0m \u001B[0;34m'_csrf'\u001B[0m\u001B[0;34m}\u001B[0m\u001B[0;34m)\u001B[0m\u001B[0;34m.\u001B[0m\u001B[0mattrs\u001B[0m\u001B[0;34m[\u001B[0m\u001B[0;34m'content'\u001B[0m\u001B[0;34m]\u001B[0m\u001B[0;34m\u001B[0m\u001B[0;34m\u001B[0m\u001B[0m\n\u001B[0m\u001B[1;32m    350\u001B[0m         headers = {\n\u001B[1;32m    351\u001B[0m             \u001B[0;34m'Host'\u001B[0m\u001B[0;34m:\u001B[0m \u001B[0mself\u001B[0m\u001B[0;34m.\u001B[0m\u001B[0m_host\u001B[0m\u001B[0;34m,\u001B[0m\u001B[0;34m\u001B[0m\u001B[0;34m\u001B[0m\u001B[0m\n",
      "\u001B[0;31mAttributeError\u001B[0m: 'NoneType' object has no attribute 'attrs'"
     ]
    }
   ],
   "source": [
    "from requests import RequestException\n",
    "import orcid\n",
    "\n",
    "key = 'APP-6OIRWLFT0C1KZ9FD'\n",
    "secret = 'dd06039c-9778-4ca8-adfc-f857be0c0fd7'\n",
    "\n",
    "api = orcid.PublicAPI(key, secret, sandbox=True)\n",
    "token = api.get_token('sitekwb@gmail.com', 'gerzaw-kUnde8-pogcef', 'https://pub.orcid.org')\n",
    "api.read_record_public('0000-0001-8338-852X', 'ringgold-org-id')"
   ],
   "metadata": {
    "collapsed": false,
    "pycharm": {
     "name": "#%%\n"
    }
   }
  },
  {
   "cell_type": "code",
   "execution_count": null,
   "outputs": [],
   "source": [
    "api.ge"
   ],
   "metadata": {
    "collapsed": false,
    "pycharm": {
     "name": "#%%\n"
    }
   }
  },
  {
   "cell_type": "code",
   "execution_count": 3,
   "outputs": [
    {
     "ename": "AttributeError",
     "evalue": "'NoneType' object has no attribute 'attrs'",
     "output_type": "error",
     "traceback": [
      "\u001B[0;31m---------------------------------------------------------------------------\u001B[0m",
      "\u001B[0;31mAttributeError\u001B[0m                            Traceback (most recent call last)",
      "\u001B[0;32m/tmp/ipykernel_30321/3321762568.py\u001B[0m in \u001B[0;36m<module>\u001B[0;34m\u001B[0m\n\u001B[0;32m----> 1\u001B[0;31m \u001B[0mtoken\u001B[0m \u001B[0;34m=\u001B[0m \u001B[0mapi\u001B[0m\u001B[0;34m.\u001B[0m\u001B[0mget_token\u001B[0m\u001B[0;34m(\u001B[0m\u001B[0;34m'sitekwb@gmail.com'\u001B[0m\u001B[0;34m,\u001B[0m \u001B[0;34m'gerzaw-kUnde8-pogcef'\u001B[0m\u001B[0;34m,\u001B[0m \u001B[0;34m'https://pub.orcid.org'\u001B[0m\u001B[0;34m)\u001B[0m\u001B[0;34m\u001B[0m\u001B[0;34m\u001B[0m\u001B[0m\n\u001B[0m",
      "\u001B[0;32m~/anaconda3/envs/indexing/lib/python3.9/site-packages/orcid/orcid.py\u001B[0m in \u001B[0;36mget_token\u001B[0;34m(self, user_id, password, redirect_uri, scope)\u001B[0m\n\u001B[1;32m    259\u001B[0m             \u001B[0mThe\u001B[0m \u001B[0mtoken\u001B[0m\u001B[0;34m.\u001B[0m\u001B[0;34m\u001B[0m\u001B[0;34m\u001B[0m\u001B[0m\n\u001B[1;32m    260\u001B[0m         \"\"\"\n\u001B[0;32m--> 261\u001B[0;31m         response = self._authenticate(user_id, password, redirect_uri,\n\u001B[0m\u001B[1;32m    262\u001B[0m                                       scope)\n\u001B[1;32m    263\u001B[0m         \u001B[0;32mreturn\u001B[0m \u001B[0mresponse\u001B[0m\u001B[0;34m[\u001B[0m\u001B[0;34m'access_token'\u001B[0m\u001B[0;34m]\u001B[0m\u001B[0;34m\u001B[0m\u001B[0;34m\u001B[0m\u001B[0m\n",
      "\u001B[0;32m~/anaconda3/envs/indexing/lib/python3.9/site-packages/orcid/orcid.py\u001B[0m in \u001B[0;36m_authenticate\u001B[0;34m(self, user_id, password, redirect_uri, scope)\u001B[0m\n\u001B[1;32m    347\u001B[0m \u001B[0;34m\u001B[0m\u001B[0m\n\u001B[1;32m    348\u001B[0m         \u001B[0msoup\u001B[0m \u001B[0;34m=\u001B[0m \u001B[0mBeautifulSoup\u001B[0m\u001B[0;34m(\u001B[0m\u001B[0mresponse\u001B[0m\u001B[0;34m.\u001B[0m\u001B[0mcontent\u001B[0m\u001B[0;34m,\u001B[0m \u001B[0;34m'html5lib'\u001B[0m\u001B[0;34m)\u001B[0m\u001B[0;34m\u001B[0m\u001B[0;34m\u001B[0m\u001B[0m\n\u001B[0;32m--> 349\u001B[0;31m         \u001B[0mcsrf\u001B[0m \u001B[0;34m=\u001B[0m \u001B[0msoup\u001B[0m\u001B[0;34m.\u001B[0m\u001B[0mfind\u001B[0m\u001B[0;34m(\u001B[0m\u001B[0mattrs\u001B[0m\u001B[0;34m=\u001B[0m\u001B[0;34m{\u001B[0m\u001B[0;34m'name'\u001B[0m\u001B[0;34m:\u001B[0m \u001B[0;34m'_csrf'\u001B[0m\u001B[0;34m}\u001B[0m\u001B[0;34m)\u001B[0m\u001B[0;34m.\u001B[0m\u001B[0mattrs\u001B[0m\u001B[0;34m[\u001B[0m\u001B[0;34m'content'\u001B[0m\u001B[0;34m]\u001B[0m\u001B[0;34m\u001B[0m\u001B[0;34m\u001B[0m\u001B[0m\n\u001B[0m\u001B[1;32m    350\u001B[0m         headers = {\n\u001B[1;32m    351\u001B[0m             \u001B[0;34m'Host'\u001B[0m\u001B[0;34m:\u001B[0m \u001B[0mself\u001B[0m\u001B[0;34m.\u001B[0m\u001B[0m_host\u001B[0m\u001B[0;34m,\u001B[0m\u001B[0;34m\u001B[0m\u001B[0;34m\u001B[0m\u001B[0m\n",
      "\u001B[0;31mAttributeError\u001B[0m: 'NoneType' object has no attribute 'attrs'"
     ]
    }
   ],
   "source": [
    "token = api.get_token('sitekwb@gmail.com', 'gerzaw-kUnde8-pogcef', 'https://pub.orcid.org')"
   ],
   "metadata": {
    "collapsed": false,
    "pycharm": {
     "name": "#%%\n"
    }
   }
  },
  {
   "cell_type": "code",
   "execution_count": 2,
   "outputs": [
    {
     "ename": "TypeError",
     "evalue": "read_record_public() missing 1 required positional argument: 'token'",
     "output_type": "error",
     "traceback": [
      "\u001B[0;31m---------------------------------------------------------------------------\u001B[0m",
      "\u001B[0;31mTypeError\u001B[0m                                 Traceback (most recent call last)",
      "\u001B[0;32m/tmp/ipykernel_30321/1129544707.py\u001B[0m in \u001B[0;36m<module>\u001B[0;34m\u001B[0m\n\u001B[0;32m----> 1\u001B[0;31m \u001B[0mapi\u001B[0m\u001B[0;34m.\u001B[0m\u001B[0mread_record_public\u001B[0m\u001B[0;34m(\u001B[0m\u001B[0;34m'0000-0001-8338-852X'\u001B[0m\u001B[0;34m,\u001B[0m \u001B[0;34m'ringgold-org-id'\u001B[0m\u001B[0;34m)\u001B[0m\u001B[0;34m\u001B[0m\u001B[0;34m\u001B[0m\u001B[0m\n\u001B[0m",
      "\u001B[0;31mTypeError\u001B[0m: read_record_public() missing 1 required positional argument: 'token'"
     ]
    }
   ],
   "source": [
    "api.read_record_public('0000-0001-8338-852X', 'ringgold-org-id')"
   ],
   "metadata": {
    "collapsed": false,
    "pycharm": {
     "name": "#%%\n"
    }
   }
  },
  {
   "cell_type": "code",
   "execution_count": 35,
   "outputs": [
    {
     "data": {
      "text/plain": "397451"
     },
     "execution_count": 35,
     "metadata": {},
     "output_type": "execute_result"
    }
   ],
   "source": [
    "current_index"
   ],
   "metadata": {
    "collapsed": false,
    "pycharm": {
     "name": "#%%\n"
    }
   }
  },
  {
   "cell_type": "code",
   "execution_count": 30,
   "outputs": [
    {
     "name": "stdout",
     "output_type": "stream",
     "text": [
      "Australia\n",
      "AU\n",
      "United Kingdom\n",
      "GB\n",
      "Saudi Arabia\n",
      "SA\n",
      "United States\n",
      "US\n"
     ]
    }
   ],
   "source": [
    "import pycountry\n",
    "t = 'United Kingdom is a beautiful Australia USA'\n",
    "for c in pycountry.countries:\n",
    "    if c.name in t or c.alpha_2 in t:# or c.official_name in t:\n",
    "        print(c.name)\n",
    "        print(c.alpha_2)\n"
   ],
   "metadata": {
    "collapsed": false,
    "pycharm": {
     "name": "#%%\n"
    }
   }
  }
 ],
 "metadata": {
  "kernelspec": {
   "display_name": "Python 3",
   "language": "python",
   "name": "python3"
  },
  "language_info": {
   "codemirror_mode": {
    "name": "ipython",
    "version": 2
   },
   "file_extension": ".py",
   "mimetype": "text/x-python",
   "name": "python",
   "nbconvert_exporter": "python",
   "pygments_lexer": "ipython2",
   "version": "2.7.6"
  }
 },
 "nbformat": 4,
 "nbformat_minor": 0
}