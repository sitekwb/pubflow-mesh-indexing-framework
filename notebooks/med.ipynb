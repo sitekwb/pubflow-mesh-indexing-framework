{
 "cells": [
  {
   "cell_type": "code",
   "execution_count": 3,
   "metadata": {
    "collapsed": true
   },
   "outputs": [],
   "source": [
    "import os\n",
    "from typing import List, Optional, Dict, Tuple\n",
    "from tqdm import tqdm\n",
    "import json\n",
    "from collections import Counter\n",
    "import gensim\n",
    "from indexingcode.utils.Preprocessor import Preprocessor\n",
    "import nltk\n",
    "from matplotlib import pyplot as plt\n",
    "import numpy as np\n",
    "import pandas as pd\n",
    "import ijson"
   ]
  },
  {
   "cell_type": "code",
   "execution_count": 11,
   "outputs": [
    {
     "name": "stderr",
     "output_type": "stream",
     "text": [
      "[nltk_data] Downloading package stopwords to\n",
      "[nltk_data]     /Users/wojciechsitek/nltk_data...\n",
      "[nltk_data]   Package stopwords is already up-to-date!\n",
      "[nltk_data] Downloading package stopwords to\n",
      "[nltk_data]     /Users/wojciechsitek/nltk_data...\n",
      "[nltk_data]   Package stopwords is already up-to-date!\n",
      "  1%|          | 100000/15559157 [12:00<30:56:51, 138.76it/s]\n"
     ]
    }
   ],
   "source": [
    "preprocessor = Preprocessor(gensim.utils.tokenize, nltk.PorterStemmer())\n",
    "\n",
    "def get_text(node):\n",
    "    try:\n",
    "        return node.text\n",
    "    except AttributeError:\n",
    "        return None\n",
    "\n",
    "\n",
    "file_path: str = '/Volumes/SanDisk/BioAsq2021/allMeSH_2021.json'\n",
    "write_file_dir: str = '/Volumes/SanDisk/med_data_stem'\n",
    "\n",
    "tok_preprocessor = Preprocessor(gensim.utils.tokenize, None)\n",
    "NN = 100000\n",
    "mh_set = set()\n",
    "MAX_MHS = 20\n",
    "with open(file_path, encoding='ISO-8859-1') as bioasq_file:\n",
    "    client_id = 1\n",
    "    for article in tqdm(ijson.items(bioasq_file, 'articles.item'), total=15559157):\n",
    "        if client_id > NN:\n",
    "            break\n",
    "        text: str = article['abstractText']\n",
    "        sentences: List[str] = text.split('.')\n",
    "        sentences_tokens: List[List[str]] = [preprocessor.preprocess_text(s) for s in sentences]\n",
    "        for mh in article['meshMajor']:\n",
    "            if mh not in mh_set and len(mh_set) > MAX_MHS:\n",
    "                continue\n",
    "            mh_set.add(mh)\n",
    "            with open(os.path.join(write_file_dir, f\"{mh}.csv\"), 'a') as write_f:\n",
    "                tid = 1\n",
    "                for items in sentences_tokens:\n",
    "                    write_f.write(f\"{str(client_id)} {str(tid)} {' '.join([str(_) for _ in items])}\\n\")\n",
    "                    tid += 1\n",
    "        client_id += 1"
   ],
   "metadata": {
    "collapsed": false,
    "pycharm": {
     "name": "#%%\n"
    }
   }
  },
  {
   "cell_type": "code",
   "execution_count": null,
   "outputs": [],
   "source": [],
   "metadata": {
    "collapsed": false,
    "pycharm": {
     "name": "#%%\n"
    }
   }
  },
  {
   "cell_type": "code",
   "execution_count": 12,
   "outputs": [],
   "source": [
    "with open('/Volumes/SanDisk/med_vocabulary_stem.csv', 'w') as f:\n",
    "    for token, num in tok_preprocessor.vocabulary.items():\n",
    "        f.write(f\"{num} {token}\\n\")"
   ],
   "metadata": {
    "collapsed": false,
    "pycharm": {
     "name": "#%%\n"
    }
   }
  },
  {
   "cell_type": "code",
   "execution_count": 13,
   "outputs": [],
   "source": [
    "with open('/Volumes/SanDisk/med_vocabulary_stem.csv', 'w') as f:\n",
    "    for token, num in preprocessor.vocabulary.items():\n",
    "        f.write(f\"{num} {token}\\n\")"
   ],
   "metadata": {
    "collapsed": false,
    "pycharm": {
     "name": "#%%\n"
    }
   }
  },
  {
   "cell_type": "code",
   "execution_count": null,
   "outputs": [],
   "source": [],
   "metadata": {
    "collapsed": false,
    "pycharm": {
     "name": "#%%\n"
    }
   }
  }
 ],
 "metadata": {
  "kernelspec": {
   "display_name": "Python 3",
   "language": "python",
   "name": "python3"
  },
  "language_info": {
   "codemirror_mode": {
    "name": "ipython",
    "version": 2
   },
   "file_extension": ".py",
   "mimetype": "text/x-python",
   "name": "python",
   "nbconvert_exporter": "python",
   "pygments_lexer": "ipython2",
   "version": "2.7.6"
  }
 },
 "nbformat": 4,
 "nbformat_minor": 0
}