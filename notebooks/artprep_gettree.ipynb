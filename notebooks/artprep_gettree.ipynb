{
 "cells": [
  {
   "cell_type": "code",
   "execution_count": 1,
   "outputs": [],
   "source": [
    "import json\n",
    "import ijson\n",
    "from tqdm import tqdm\n",
    "from indexingcode.utils.Preprocessor import Preprocessor\n",
    "import gensim\n",
    "import nltk\n",
    "import xml.etree.ElementTree as ET"
   ],
   "metadata": {
    "collapsed": false,
    "pycharm": {
     "name": "#%%\n"
    }
   }
  },
  {
   "cell_type": "code",
   "execution_count": 16,
   "outputs": [],
   "source": [
    "def get_text(node):\n",
    "    try:\n",
    "        return node.text\n",
    "    except AttributeError:\n",
    "        return None"
   ],
   "metadata": {
    "collapsed": false,
    "pycharm": {
     "name": "#%%\n"
    }
   }
  },
  {
   "cell_type": "code",
   "execution_count": 27,
   "outputs": [
    {
     "name": "stderr",
     "output_type": "stream",
     "text": [
      "[nltk_data] Downloading package stopwords to /home/wojtek/nltk_data...\n",
      "[nltk_data]   Package stopwords is already up-to-date!\n"
     ]
    }
   ],
   "source": [
    "preprocessor = Preprocessor(gensim.utils.tokenize, nltk.PorterStemmer())"
   ],
   "metadata": {
    "collapsed": false,
    "pycharm": {
     "name": "#%%\n"
    }
   }
  },
  {
   "cell_type": "code",
   "execution_count": null,
   "outputs": [],
   "source": [
    "et = ET.parse('/media/wojtek/SanDisk/desc2022.xml')"
   ],
   "metadata": {
    "collapsed": false,
    "pycharm": {
     "name": "#%%\n"
    }
   }
  },
  {
   "cell_type": "code",
   "execution_count": 24,
   "outputs": [
    {
     "name": "stderr",
     "output_type": "stream",
     "text": [
      "2: 100%|██████████| 30194/30194 [00:00<00:00, 223325.21it/s]\n"
     ]
    }
   ],
   "source": [
    "# load meshes XML\n",
    "text_to_tree = {}\n",
    "root = et.getroot()\n",
    "omit_count = 0\n",
    "with tqdm(root.findall('DescriptorRecord')) as bar:\n",
    "    for record in bar:\n",
    "        tree_text = get_text(record.find('TreeNumberList/TreeNumber'))\n",
    "        name = get_text(record.find('DescriptorName/String'))\n",
    "        if name is None or tree_text is None:\n",
    "            omit_count += 1\n",
    "            bar.set_description(str(omit_count))\n",
    "            continue\n",
    "        # first_tree = tree_text.split('.')[0]\n",
    "        first_tree = tree_text[0]\n",
    "        text_to_tree[name] = first_tree"
   ],
   "metadata": {
    "collapsed": false,
    "pycharm": {
     "name": "#%%\n"
    }
   }
  },
  {
   "cell_type": "code",
   "execution_count": 30,
   "outputs": [
    {
     "name": "stderr",
     "output_type": "stream",
     "text": [
      "First tree writing: 100%|██████████| 15559157/15559157 [01:27<00:00, 177167.79it/s]\n"
     ]
    }
   ],
   "source": [
    "with open('out/artprep/meshes.csv', encoding='ISO-8859-1') as meshes_file:\n",
    "    with open('/media/wojtek/SanDisk/BioAsq2021/allMeSH_2021.json', encoding='ISO-8859-1') as bioasq_file:\n",
    "        with open('out/artprep/meshes_tree.csv', 'w') as meshes_tree_write_file:\n",
    "            num_to_text = {}\n",
    "            for article in tqdm(ijson.items(bioasq_file, 'articles.item'), total=15559157, desc='Num to text dictionary creation'):\n",
    "                for num, text in zip(preprocessor.preprocess_mesh(article['meshMajor']), article['meshMajor']):\n",
    "                    if num not in num_to_text:\n",
    "                        num_to_text[num] = text\n",
    "\n",
    "            num_to_tree = {}\n",
    "            omit_count = 0\n",
    "            for num, text in tqdm(num_to_text.items(), desc='Num to tree transformation'):\n",
    "                if text in text_to_tree:\n",
    "                    first_tree = text_to_tree[text]\n",
    "                    num_to_tree[num] = first_tree\n",
    "                else:\n",
    "                    omit_count += 1\n",
    "\n",
    "            for line in tqdm(meshes_file, total=15559157, desc='First tree writing'):\n",
    "                nums = list(map(int, line.split(',')))\n",
    "                trees = list(filter(lambda x: x is not None, [num_to_tree[n] if n in num_to_tree else None for n in nums]))\n",
    "                most_freq_tree = max(set(trees), key=trees.count)\n",
    "                meshes_tree_write_file.write(most_freq_tree + '\\n')\n"
   ],
   "metadata": {
    "collapsed": false,
    "pycharm": {
     "name": "#%%\n"
    }
   }
  }
 ],
 "metadata": {
  "kernelspec": {
   "display_name": "Python 3",
   "language": "python",
   "name": "python3"
  },
  "language_info": {
   "codemirror_mode": {
    "name": "ipython",
    "version": 2
   },
   "file_extension": ".py",
   "mimetype": "text/x-python",
   "name": "python",
   "nbconvert_exporter": "python",
   "pygments_lexer": "ipython2",
   "version": "2.7.6"
  }
 },
 "nbformat": 4,
 "nbformat_minor": 0
}