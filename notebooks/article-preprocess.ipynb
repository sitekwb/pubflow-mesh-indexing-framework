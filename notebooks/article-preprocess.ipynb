{
 "cells": [
  {
   "cell_type": "code",
   "execution_count": 50,
   "metadata": {
    "collapsed": true,
    "pycharm": {
     "name": "#%%\n"
    }
   },
   "outputs": [
    {
     "data": {
      "text/plain": "True"
     },
     "execution_count": 50,
     "metadata": {},
     "output_type": "execute_result"
    }
   ],
   "source": [
    "import nltk\n",
    "from typing import Dict, List, Optional, Tuple\n",
    "import json\n",
    "import os\n",
    "from indexingcode.utils.Preprocessor import Preprocessor\n",
    "import ijson\n",
    "from tqdm import tqdm\n",
    "import gensim.utils\n",
    "\n",
    "nltk.download('all', quiet=True)"
   ]
  },
  {
   "cell_type": "code",
   "execution_count": 51,
   "outputs": [
    {
     "name": "stderr",
     "output_type": "stream",
     "text": [
      "[nltk_data] Downloading package stopwords to\n",
      "[nltk_data]     /Users/wojciechsitek/nltk_data...\n",
      "[nltk_data]   Package stopwords is already up-to-date!\n"
     ]
    }
   ],
   "source": [
    "data_path = '/Users/wojciechsitek/Local/Indexing/data/BioAsq2021/allMeSH_2021.json'\n",
    "\n",
    "preprocessor = Preprocessor(gensim.utils.tokenize, nltk.PorterStemmer())\n",
    "\n"
   ],
   "metadata": {
    "collapsed": false,
    "pycharm": {
     "name": "#%%\n"
    }
   }
  },
  {
   "cell_type": "code",
   "execution_count": 52,
   "outputs": [
    {
     "name": "stderr",
     "output_type": "stream",
     "text": [
      "20it [00:00, 24364.24it/s]\n",
      "0it [00:00, ?it/s]\n"
     ]
    },
    {
     "ename": "IncompleteJSONError",
     "evalue": "parse error: trailing garbage\n                                       {\"articles\":[ {\"journal\":\"The j\n                     (right here) ------^\n",
     "output_type": "error",
     "traceback": [
      "\u001B[0;31m---------------------------------------------------------------------------\u001B[0m",
      "\u001B[0;31mIncompleteJSONError\u001B[0m                       Traceback (most recent call last)",
      "\u001B[0;32m<ipython-input-52-cd8ab2238d0d>\u001B[0m in \u001B[0;36m<module>\u001B[0;34m\u001B[0m\n\u001B[1;32m      6\u001B[0m         \u001B[0mi\u001B[0m \u001B[0;34m+=\u001B[0m \u001B[0;36m1\u001B[0m\u001B[0;34m\u001B[0m\u001B[0;34m\u001B[0m\u001B[0m\n\u001B[1;32m      7\u001B[0m     \u001B[0mf\u001B[0m\u001B[0;34m.\u001B[0m\u001B[0mseek\u001B[0m\u001B[0;34m(\u001B[0m\u001B[0;36m0\u001B[0m\u001B[0;34m)\u001B[0m\u001B[0;34m\u001B[0m\u001B[0;34m\u001B[0m\u001B[0m\n\u001B[0;32m----> 8\u001B[0;31m     \u001B[0;32mfor\u001B[0m \u001B[0mb\u001B[0m \u001B[0;32min\u001B[0m \u001B[0mtqdm\u001B[0m\u001B[0;34m(\u001B[0m\u001B[0mobjects\u001B[0m\u001B[0;34m)\u001B[0m\u001B[0;34m:\u001B[0m\u001B[0;34m\u001B[0m\u001B[0;34m\u001B[0m\u001B[0m\n\u001B[0m\u001B[1;32m      9\u001B[0m         \u001B[0mj\u001B[0m \u001B[0;34m+=\u001B[0m \u001B[0;36m1\u001B[0m\u001B[0;34m\u001B[0m\u001B[0;34m\u001B[0m\u001B[0m\n\u001B[1;32m     10\u001B[0m     \u001B[0mprint\u001B[0m\u001B[0;34m(\u001B[0m\u001B[0mi\u001B[0m\u001B[0;34m)\u001B[0m\u001B[0;34m\u001B[0m\u001B[0;34m\u001B[0m\u001B[0m\n",
      "\u001B[0;32m/usr/local/anaconda3/envs/indexing/lib/python3.8/site-packages/tqdm/std.py\u001B[0m in \u001B[0;36m__iter__\u001B[0;34m(self)\u001B[0m\n\u001B[1;32m   1183\u001B[0m \u001B[0;34m\u001B[0m\u001B[0m\n\u001B[1;32m   1184\u001B[0m         \u001B[0;32mtry\u001B[0m\u001B[0;34m:\u001B[0m\u001B[0;34m\u001B[0m\u001B[0;34m\u001B[0m\u001B[0m\n\u001B[0;32m-> 1185\u001B[0;31m             \u001B[0;32mfor\u001B[0m \u001B[0mobj\u001B[0m \u001B[0;32min\u001B[0m \u001B[0miterable\u001B[0m\u001B[0;34m:\u001B[0m\u001B[0;34m\u001B[0m\u001B[0;34m\u001B[0m\u001B[0m\n\u001B[0m\u001B[1;32m   1186\u001B[0m                 \u001B[0;32myield\u001B[0m \u001B[0mobj\u001B[0m\u001B[0;34m\u001B[0m\u001B[0;34m\u001B[0m\u001B[0m\n\u001B[1;32m   1187\u001B[0m                 \u001B[0;31m# Update and possibly print the progressbar.\u001B[0m\u001B[0;34m\u001B[0m\u001B[0;34m\u001B[0m\u001B[0;34m\u001B[0m\u001B[0m\n",
      "\u001B[0;31mIncompleteJSONError\u001B[0m: parse error: trailing garbage\n                                       {\"articles\":[ {\"journal\":\"The j\n                     (right here) ------^\n"
     ]
    }
   ],
   "source": [
    "with open('/Users/wojciechsitek/Local/Indexing/data/BioAsq-test1/bioasq_test_50tys.json') as f:\n",
    "    objects = ijson.items(f, 'articles.item')\n",
    "    i = 0\n",
    "    j = 0\n",
    "    for a in tqdm(objects):\n",
    "        i += 1\n",
    "    f.seek(0)\n",
    "    for b in tqdm(objects):\n",
    "        j += 1\n",
    "    print(i)"
   ],
   "metadata": {
    "collapsed": false,
    "pycharm": {
     "name": "#%%\n"
    }
   }
  },
  {
   "cell_type": "code",
   "execution_count": 53,
   "outputs": [],
   "source": [
    "# abstracts\n",
    "class AbstractIterator:\n",
    "    def __init__(self, f):\n",
    "        self.f = f\n",
    "\n",
    "    def __iter__(self):\n",
    "        self.f.seek(0)\n",
    "        for article in tqdm(ijson.items(self.f, 'articles.item'), total=15559157):\n",
    "            yield preprocessor.preprocess_text(article['abstractText'])"
   ],
   "metadata": {
    "collapsed": false,
    "pycharm": {
     "name": "#%%\n"
    }
   }
  },
  {
   "cell_type": "code",
   "execution_count": 54,
   "outputs": [
    {
     "name": "stdout",
     "output_type": "stream",
     "text": [
      "Build vocab\n"
     ]
    },
    {
     "name": "stderr",
     "output_type": "stream",
     "text": [
      "  1%|▏         | 225099/15559157 [15:01<17:03:23, 249.73it/s]\n"
     ]
    },
    {
     "ename": "KeyboardInterrupt",
     "evalue": "",
     "output_type": "error",
     "traceback": [
      "\u001B[0;31m---------------------------------------------------------------------------\u001B[0m",
      "\u001B[0;31mKeyboardInterrupt\u001B[0m                         Traceback (most recent call last)",
      "\u001B[0;32m<ipython-input-54-03ef82c7cb6b>\u001B[0m in \u001B[0;36m<module>\u001B[0;34m\u001B[0m\n\u001B[1;32m      7\u001B[0m     \u001B[0msentences_iterator\u001B[0m \u001B[0;34m=\u001B[0m \u001B[0mAbstractIterator\u001B[0m\u001B[0;34m(\u001B[0m\u001B[0mf\u001B[0m\u001B[0;34m)\u001B[0m\u001B[0;34m\u001B[0m\u001B[0;34m\u001B[0m\u001B[0m\n\u001B[1;32m      8\u001B[0m     \u001B[0mprint\u001B[0m\u001B[0;34m(\u001B[0m\u001B[0;34m\"Build vocab\"\u001B[0m\u001B[0;34m)\u001B[0m\u001B[0;34m\u001B[0m\u001B[0;34m\u001B[0m\u001B[0m\n\u001B[0;32m----> 9\u001B[0;31m     \u001B[0mmodel\u001B[0m\u001B[0;34m.\u001B[0m\u001B[0mbuild_vocab\u001B[0m\u001B[0;34m(\u001B[0m\u001B[0msentences_iterator\u001B[0m\u001B[0;34m)\u001B[0m\u001B[0;34m\u001B[0m\u001B[0;34m\u001B[0m\u001B[0m\n\u001B[0m\u001B[1;32m     10\u001B[0m     \u001B[0mprint\u001B[0m\u001B[0;34m(\u001B[0m\u001B[0;34m\"Train\"\u001B[0m\u001B[0;34m)\u001B[0m\u001B[0;34m\u001B[0m\u001B[0;34m\u001B[0m\u001B[0m\n\u001B[1;32m     11\u001B[0m     \u001B[0mmodel\u001B[0m\u001B[0;34m.\u001B[0m\u001B[0mtrain\u001B[0m\u001B[0;34m(\u001B[0m\u001B[0msentences_iterator\u001B[0m\u001B[0;34m,\u001B[0m \u001B[0mtotal_examples\u001B[0m\u001B[0;34m=\u001B[0m\u001B[0mmodel\u001B[0m\u001B[0;34m.\u001B[0m\u001B[0mcorpus_count\u001B[0m\u001B[0;34m,\u001B[0m \u001B[0mepochs\u001B[0m\u001B[0;34m=\u001B[0m\u001B[0mmodel\u001B[0m\u001B[0;34m.\u001B[0m\u001B[0mepochs\u001B[0m\u001B[0;34m)\u001B[0m\u001B[0;34m\u001B[0m\u001B[0;34m\u001B[0m\u001B[0m\n",
      "\u001B[0;32m/usr/local/anaconda3/envs/indexing/lib/python3.8/site-packages/gensim/models/word2vec.py\u001B[0m in \u001B[0;36mbuild_vocab\u001B[0;34m(self, corpus_iterable, corpus_file, update, progress_per, keep_raw_vocab, trim_rule, **kwargs)\u001B[0m\n\u001B[1;32m    485\u001B[0m         \"\"\"\n\u001B[1;32m    486\u001B[0m         \u001B[0mself\u001B[0m\u001B[0;34m.\u001B[0m\u001B[0m_check_corpus_sanity\u001B[0m\u001B[0;34m(\u001B[0m\u001B[0mcorpus_iterable\u001B[0m\u001B[0;34m=\u001B[0m\u001B[0mcorpus_iterable\u001B[0m\u001B[0;34m,\u001B[0m \u001B[0mcorpus_file\u001B[0m\u001B[0;34m=\u001B[0m\u001B[0mcorpus_file\u001B[0m\u001B[0;34m,\u001B[0m \u001B[0mpasses\u001B[0m\u001B[0;34m=\u001B[0m\u001B[0;36m1\u001B[0m\u001B[0;34m)\u001B[0m\u001B[0;34m\u001B[0m\u001B[0;34m\u001B[0m\u001B[0m\n\u001B[0;32m--> 487\u001B[0;31m         total_words, corpus_count = self.scan_vocab(\n\u001B[0m\u001B[1;32m    488\u001B[0m             corpus_iterable=corpus_iterable, corpus_file=corpus_file, progress_per=progress_per, trim_rule=trim_rule)\n\u001B[1;32m    489\u001B[0m         \u001B[0mself\u001B[0m\u001B[0;34m.\u001B[0m\u001B[0mcorpus_count\u001B[0m \u001B[0;34m=\u001B[0m \u001B[0mcorpus_count\u001B[0m\u001B[0;34m\u001B[0m\u001B[0;34m\u001B[0m\u001B[0m\n",
      "\u001B[0;32m/usr/local/anaconda3/envs/indexing/lib/python3.8/site-packages/gensim/models/word2vec.py\u001B[0m in \u001B[0;36mscan_vocab\u001B[0;34m(self, corpus_iterable, corpus_file, progress_per, workers, trim_rule)\u001B[0m\n\u001B[1;32m    580\u001B[0m             \u001B[0mcorpus_iterable\u001B[0m \u001B[0;34m=\u001B[0m \u001B[0mLineSentence\u001B[0m\u001B[0;34m(\u001B[0m\u001B[0mcorpus_file\u001B[0m\u001B[0;34m)\u001B[0m\u001B[0;34m\u001B[0m\u001B[0;34m\u001B[0m\u001B[0m\n\u001B[1;32m    581\u001B[0m \u001B[0;34m\u001B[0m\u001B[0m\n\u001B[0;32m--> 582\u001B[0;31m         \u001B[0mtotal_words\u001B[0m\u001B[0;34m,\u001B[0m \u001B[0mcorpus_count\u001B[0m \u001B[0;34m=\u001B[0m \u001B[0mself\u001B[0m\u001B[0;34m.\u001B[0m\u001B[0m_scan_vocab\u001B[0m\u001B[0;34m(\u001B[0m\u001B[0mcorpus_iterable\u001B[0m\u001B[0;34m,\u001B[0m \u001B[0mprogress_per\u001B[0m\u001B[0;34m,\u001B[0m \u001B[0mtrim_rule\u001B[0m\u001B[0;34m)\u001B[0m\u001B[0;34m\u001B[0m\u001B[0;34m\u001B[0m\u001B[0m\n\u001B[0m\u001B[1;32m    583\u001B[0m \u001B[0;34m\u001B[0m\u001B[0m\n\u001B[1;32m    584\u001B[0m         logger.info(\n",
      "\u001B[0;32m/usr/local/anaconda3/envs/indexing/lib/python3.8/site-packages/gensim/models/word2vec.py\u001B[0m in \u001B[0;36m_scan_vocab\u001B[0;34m(self, sentences, progress_per, trim_rule)\u001B[0m\n\u001B[1;32m    549\u001B[0m         \u001B[0mvocab\u001B[0m \u001B[0;34m=\u001B[0m \u001B[0mdefaultdict\u001B[0m\u001B[0;34m(\u001B[0m\u001B[0mint\u001B[0m\u001B[0;34m)\u001B[0m\u001B[0;34m\u001B[0m\u001B[0;34m\u001B[0m\u001B[0m\n\u001B[1;32m    550\u001B[0m         \u001B[0mchecked_string_types\u001B[0m \u001B[0;34m=\u001B[0m \u001B[0;36m0\u001B[0m\u001B[0;34m\u001B[0m\u001B[0;34m\u001B[0m\u001B[0m\n\u001B[0;32m--> 551\u001B[0;31m         \u001B[0;32mfor\u001B[0m \u001B[0msentence_no\u001B[0m\u001B[0;34m,\u001B[0m \u001B[0msentence\u001B[0m \u001B[0;32min\u001B[0m \u001B[0menumerate\u001B[0m\u001B[0;34m(\u001B[0m\u001B[0msentences\u001B[0m\u001B[0;34m)\u001B[0m\u001B[0;34m:\u001B[0m\u001B[0;34m\u001B[0m\u001B[0;34m\u001B[0m\u001B[0m\n\u001B[0m\u001B[1;32m    552\u001B[0m             \u001B[0;32mif\u001B[0m \u001B[0;32mnot\u001B[0m \u001B[0mchecked_string_types\u001B[0m\u001B[0;34m:\u001B[0m\u001B[0;34m\u001B[0m\u001B[0;34m\u001B[0m\u001B[0m\n\u001B[1;32m    553\u001B[0m                 \u001B[0;32mif\u001B[0m \u001B[0misinstance\u001B[0m\u001B[0;34m(\u001B[0m\u001B[0msentence\u001B[0m\u001B[0;34m,\u001B[0m \u001B[0mstr\u001B[0m\u001B[0;34m)\u001B[0m\u001B[0;34m:\u001B[0m\u001B[0;34m\u001B[0m\u001B[0;34m\u001B[0m\u001B[0m\n",
      "\u001B[0;32m<ipython-input-53-d5da7e15518a>\u001B[0m in \u001B[0;36m__iter__\u001B[0;34m(self)\u001B[0m\n\u001B[1;32m      7\u001B[0m         \u001B[0mself\u001B[0m\u001B[0;34m.\u001B[0m\u001B[0mf\u001B[0m\u001B[0;34m.\u001B[0m\u001B[0mseek\u001B[0m\u001B[0;34m(\u001B[0m\u001B[0;36m0\u001B[0m\u001B[0;34m)\u001B[0m\u001B[0;34m\u001B[0m\u001B[0;34m\u001B[0m\u001B[0m\n\u001B[1;32m      8\u001B[0m         \u001B[0;32mfor\u001B[0m \u001B[0marticle\u001B[0m \u001B[0;32min\u001B[0m \u001B[0mtqdm\u001B[0m\u001B[0;34m(\u001B[0m\u001B[0mijson\u001B[0m\u001B[0;34m.\u001B[0m\u001B[0mitems\u001B[0m\u001B[0;34m(\u001B[0m\u001B[0mself\u001B[0m\u001B[0;34m.\u001B[0m\u001B[0mf\u001B[0m\u001B[0;34m,\u001B[0m \u001B[0;34m'articles.item'\u001B[0m\u001B[0;34m)\u001B[0m\u001B[0;34m,\u001B[0m \u001B[0mtotal\u001B[0m\u001B[0;34m=\u001B[0m\u001B[0;36m15559157\u001B[0m\u001B[0;34m)\u001B[0m\u001B[0;34m:\u001B[0m\u001B[0;34m\u001B[0m\u001B[0;34m\u001B[0m\u001B[0m\n\u001B[0;32m----> 9\u001B[0;31m             \u001B[0;32myield\u001B[0m \u001B[0mpreprocessor\u001B[0m\u001B[0;34m.\u001B[0m\u001B[0mpreprocess_text\u001B[0m\u001B[0;34m(\u001B[0m\u001B[0marticle\u001B[0m\u001B[0;34m[\u001B[0m\u001B[0;34m'abstractText'\u001B[0m\u001B[0;34m]\u001B[0m\u001B[0;34m)\u001B[0m\u001B[0;34m\u001B[0m\u001B[0;34m\u001B[0m\u001B[0m\n\u001B[0m",
      "\u001B[0;32m~/Documents/Indexing/code/indexingcode/utils/Preprocessor.py\u001B[0m in \u001B[0;36mpreprocess_text\u001B[0;34m(self, text)\u001B[0m\n\u001B[1;32m     52\u001B[0m         \u001B[0;32mfor\u001B[0m \u001B[0mt\u001B[0m \u001B[0;32min\u001B[0m \u001B[0mself\u001B[0m\u001B[0;34m.\u001B[0m\u001B[0mtokenize\u001B[0m\u001B[0;34m(\u001B[0m\u001B[0mtext\u001B[0m\u001B[0;34m)\u001B[0m\u001B[0;34m:\u001B[0m\u001B[0;34m\u001B[0m\u001B[0;34m\u001B[0m\u001B[0m\n\u001B[1;32m     53\u001B[0m             \u001B[0mtoken\u001B[0m\u001B[0;34m:\u001B[0m \u001B[0mstr\u001B[0m \u001B[0;34m=\u001B[0m \u001B[0mself\u001B[0m\u001B[0;34m.\u001B[0m\u001B[0mstemmer\u001B[0m\u001B[0;34m.\u001B[0m\u001B[0mstem\u001B[0m\u001B[0;34m(\u001B[0m\u001B[0mt\u001B[0m\u001B[0;34m)\u001B[0m\u001B[0;34m\u001B[0m\u001B[0;34m\u001B[0m\u001B[0m\n\u001B[0;32m---> 54\u001B[0;31m             \u001B[0;32mif\u001B[0m \u001B[0mtoken\u001B[0m \u001B[0;32min\u001B[0m \u001B[0mself\u001B[0m\u001B[0;34m.\u001B[0m\u001B[0mstopwords_and_punctuation\u001B[0m\u001B[0;34m:\u001B[0m\u001B[0;34m\u001B[0m\u001B[0;34m\u001B[0m\u001B[0m\n\u001B[0m\u001B[1;32m     55\u001B[0m                 \u001B[0;32mcontinue\u001B[0m\u001B[0;34m\u001B[0m\u001B[0;34m\u001B[0m\u001B[0m\n\u001B[1;32m     56\u001B[0m \u001B[0;34m\u001B[0m\u001B[0m\n",
      "\u001B[0;31mKeyboardInterrupt\u001B[0m: "
     ]
    }
   ],
   "source": [
    "import gensim\n",
    "\n",
    "out_dir = '/Users/wojciechsitek/Documents/Indexing/code/indexingcode/out/article-preprocess-2021.nosync'\n",
    "# with open(data_path) as f:\n",
    "with open('/Users/wojciechsitek/Local/Indexing/data/BioAsq2021/allMeSH_2021.json', encoding='ISO-8859-1') as f:\n",
    "    model = gensim.models.Word2Vec(vector_size=1, window=5, min_count=2, epochs=2, sg=1)\n",
    "    sentences_iterator = AbstractIterator(f)\n",
    "    print(\"Build vocab\")\n",
    "    model.build_vocab(sentences_iterator)\n",
    "    print(\"Train\")\n",
    "    model.train(sentences_iterator, total_examples=model.corpus_count, epochs=model.epochs)\n",
    "    print(\"Build vocab dictionaries\")\n",
    "\n",
    "    num_to_emb = dict(map(lambda i: (i, model.wv[i][0]), filter(lambda word: word in model.wv.key_to_index, preprocessor.vocabulary.values())))\n",
    "    num_to_text = dict(map(lambda a: (a[1], a[0]), preprocessor.vocabulary.items()))\n",
    "    print(\"Build abstracts out\")\n",
    "    def iter_abstracts_out():\n",
    "        f.seek(0)\n",
    "        for article in ijson.items(f, 'articles.item'):\n",
    "            yield ([num_to_emb[word] for word in filter(lambda word: word in model.wv.key_to_index, article)], preprocessor.preprocess_journal(article['journal']), preprocessor.preprocess_mesh(article['meshMajor']))\n",
    "    with open(os.path.join(out_dir,'bioasq_preprocessed_all.csv'), 'w') as fw:\n",
    "        for line, journal, meshes in tqdm(iter_abstracts_out(), total=15559157):\n",
    "            fw.write(f\"{str(journal)};{','.join(map(str, line))};{','.join(map(str, meshes))}\\n\")\n",
    "    with open(os.path.join(out_dir, 'num_to_emb.json'), 'w') as fw:\n",
    "        json.dump([(str(k),str(v)) for k, v in num_to_emb.items()], fw)\n",
    "\n",
    "    with open(os.path.join(out_dir, 'num_to_text.json'), 'w') as fw:\n",
    "        json.dump([(str(k),str(v)) for k, v in num_to_text.items()], fw)\n",
    "\n",
    "    with open(os.path.join(out_dir, 'mesh_vocabulary.json'), 'w') as fw:\n",
    "        json.dump([(str(k),str(v)) for k, v in preprocessor.mesh_vocabulary.items()], fw)\n"
   ],
   "metadata": {
    "collapsed": false,
    "pycharm": {
     "name": "#%%\n"
    }
   }
  },
  {
   "cell_type": "code",
   "execution_count": 39,
   "outputs": [
    {
     "data": {
      "text/plain": "generator"
     },
     "execution_count": 39,
     "metadata": {},
     "output_type": "execute_result"
    }
   ],
   "source": [
    "type(iter_abstracts_out())"
   ],
   "metadata": {
    "collapsed": false,
    "pycharm": {
     "name": "#%%\n"
    }
   }
  },
  {
   "cell_type": "code",
   "execution_count": null,
   "outputs": [],
   "source": [
    "import json\n"
   ],
   "metadata": {
    "collapsed": false,
    "pycharm": {
     "name": "#%%\n",
     "is_executing": true
    }
   }
  },
  {
   "cell_type": "code",
   "execution_count": null,
   "outputs": [],
   "source": [
    "# TEST FOR OUT LINE\n",
    "print([(a, num_to_text[a], num_to_emb[a]) for a in range(1, 5)])\n",
    "list(map(lambda article: list(map(lambda i: num_to_emb[i], preprocessor.preprocess_text(article['abstractText']))), [{'abstractText':'traumat brain'}, {'abstractText': 'injuri tbi'}]))"
   ],
   "metadata": {
    "collapsed": false,
    "pycharm": {
     "name": "#%%\n",
     "is_executing": true
    }
   }
  },
  {
   "cell_type": "code",
   "execution_count": 7,
   "outputs": [],
   "source": [
    "# with open('/Users/wojciechsitek/Local/Indexing/out/article-preprocess/bioasq_preprocessed.csv', 'w') as f:\n",
    "#     for line in abstracts_out:\n",
    "#         f.write(f\"{','.join(map(str, line))}\\n\")"
   ],
   "metadata": {
    "collapsed": false,
    "pycharm": {
     "name": "#%%\n"
    }
   }
  },
  {
   "cell_type": "code",
   "execution_count": null,
   "outputs": [],
   "source": [],
   "metadata": {
    "collapsed": false,
    "pycharm": {
     "name": "#%%\n",
     "is_executing": true
    }
   }
  },
  {
   "cell_type": "code",
   "execution_count": null,
   "outputs": [],
   "source": [
    "import json\n",
    "with open(os.path.join(out_dir, 'mesh_vocabulary.json'), 'w') as f:\n",
    "    json.dump([(str(k),str(v)) for k, v in preprocessor.mesh_vocabulary.items()], f)"
   ],
   "metadata": {
    "collapsed": false,
    "pycharm": {
     "name": "#%%\n",
     "is_executing": true
    }
   }
  },
  {
   "cell_type": "code",
   "execution_count": 15,
   "outputs": [],
   "source": [
    "del abstracts_out\n",
    "del journals_out\n",
    "del meshes_out"
   ],
   "metadata": {
    "collapsed": false,
    "pycharm": {
     "name": "#%%\n"
    }
   }
  },
  {
   "cell_type": "code",
   "execution_count": null,
   "outputs": [],
   "source": [],
   "metadata": {
    "collapsed": false,
    "pycharm": {
     "name": "#%%\n"
    }
   }
  },
  {
   "cell_type": "code",
   "execution_count": 130,
   "outputs": [],
   "source": [
    "num_to_emb = {}\n",
    "num_to_text = {}\n",
    "for word, i in preprocessor.vocabulary.items():\n",
    "    num_to_emb[i] = model.wv[i][0]\n",
    "    num_to_text[i] = word"
   ],
   "metadata": {
    "collapsed": false,
    "pycharm": {
     "name": "#%%\n"
    }
   }
  },
  {
   "cell_type": "code",
   "execution_count": 124,
   "outputs": [],
   "source": [
    "num_to_emb_sorted = [(k, v, num_to_text[k]) for k, v in sorted(num_to_emb.items(), key=lambda a: a[1])]"
   ],
   "metadata": {
    "collapsed": false,
    "pycharm": {
     "name": "#%%\n"
    }
   }
  },
  {
   "cell_type": "code",
   "execution_count": 126,
   "outputs": [
    {
     "data": {
      "text/plain": "[(19494, -1.9563501, 'citric'),\n (4901, -1.9563332, 'herbivor'),\n (24089, -1.9562715, 'adma'),\n (3580, -1.9562068, 'chd'),\n (3776, -1.956191, 'cure'),\n (594, -1.9561521, 'daytim'),\n (1869, -1.955883, 'radiu'),\n (8539, -1.9557395, 'underscor'),\n (8738, -1.9557378, 'modest'),\n (11246, -1.955703, 'aecopd'),\n (2376, -1.9556928, 'suit'),\n (589, -1.9555063, 'anxieti'),\n (9586, -1.9554634, 'sigmoid'),\n (16728, -1.9553767, 'subdivid'),\n (8584, -1.9551866, 'oocyt'),\n (4925, -1.9550589, 'undisturb'),\n (27446, -1.9550502, 'stsm'),\n (5652, -1.954813, 'terminolog'),\n (10485, -1.9548012, 'ut'),\n (16893, -1.9547744, 'corrobor'),\n (6821, -1.9547523, 'mycoplasma'),\n (4130, -1.9545218, 'reoper'),\n (22490, -1.9543761, 'partum'),\n (15235, -1.954339, 'bortezomib'),\n (18306, -1.9541602, 'transderm'),\n (5617, -1.9540714, 'counsel'),\n (13239, -1.9538181, 'assert'),\n (420, -1.95378, 'weekli'),\n (13316, -1.9537363, 'abbottabad'),\n (1251, -1.9536935, 'unifi'),\n (10199, -1.9536885, 'morn'),\n (9918, -1.9536754, 'foami'),\n (8650, -1.9535309, 'transferrin'),\n (16173, -1.9534284, 'runx'),\n (23190, -1.9531178, 'dect'),\n (839, -1.9529942, 'lavag'),\n (6930, -1.9528115, 'neoadjuv'),\n (12297, -1.9526898, 'unfavor'),\n (20563, -1.9525365, 'azt'),\n (11333, -1.9522494, 'generaliz'),\n (11387, -1.9522429, 'electrotherapi'),\n (3882, -1.9521707, 'credit'),\n (2291, -1.95215, 'strict'),\n (12129, -1.9520223, 'erd'),\n (12812, -1.9519938, 'ccnd'),\n (2997, -1.9519769, 'arg'),\n (4795, -1.9518471, 'inter'),\n (28725, -1.951733, 'unexpos'),\n (17272, -1.9516776, 'pericardium'),\n (10679, -1.9516677, 'cyp'),\n (7662, -1.9516169, 'hipv'),\n (15057, -1.9515846, 'propylen'),\n (370, -1.951535, 'hazard'),\n (15700, -1.9512621, 'pector'),\n (3600, -1.9510553, 'pdm'),\n (9196, -1.95089, 'lvef'),\n (7642, -1.9507825, 'auriciliu'),\n (6946, -1.9507096, 'gy'),\n (8384, -1.9506888, 'combust'),\n (11523, -1.9502063, 'sciatic'),\n (26073, -1.9500587, 'ibt'),\n (781, -1.9499457, 'replant'),\n (4207, -1.9498358, 'lowest'),\n (9254, -1.9497882, 'chf'),\n (18857, -1.9497254, 'tz'),\n (11549, -1.9497201, 'midazolam'),\n (8009, -1.9496608, 'add'),\n (5272, -1.9495207, 'contributor'),\n (10989, -1.9494094, 'append'),\n (22218, -1.9493845, 'radioprotector'),\n (6367, -1.9493808, 'adulthood'),\n (11868, -1.9491935, 'epstein'),\n (1269, -1.949115, 'troop'),\n (14131, -1.9490614, 'pk'),\n (8564, -1.948849, 'hematocrit'),\n (3544, -1.9486703, 'eo'),\n (20117, -1.9485985, 'edar'),\n (18230, -1.9485382, 'embolis'),\n (8846, -1.9483515, 'grazoprevir'),\n (3765, -1.9480854, 'pg'),\n (4000, -1.9479703, 'clearer'),\n (9235, -1.9479553, 'pdur'),\n (1343, -1.9476565, 'everyday'),\n (17291, -1.9476404, 'cca'),\n (9287, -1.9476352, 'underweight'),\n (4878, -1.9474949, 'metric'),\n (28761, -1.9473155, 'ui'),\n (754, -1.9470638, 'anal'),\n (7885, -1.9470544, 'tumorigenesi'),\n (7740, -1.9470317, 'albino'),\n (6117, -1.9470308, 'proteom'),\n (12447, -1.9469959, 'gastriti'),\n (8874, -1.9467952, 'hemodialysi'),\n (14043, -1.9467424, 'thoracoscor'),\n (335, -1.9465606, 'sd'),\n (2372, -1.9463894, 'iac'),\n (22093, -1.946367, 'tex'),\n (9217, -1.9463153, 'nimesulid'),\n (6504, -1.9462914, 'grid'),\n (2451, -1.9462126, 'cardiovascular'),\n (15207, -1.9461657, 'dexa'),\n (25800, -1.9460926, 'dscr'),\n (5446, -1.9459358, 'lipoprotein'),\n (11434, -1.9459187, 'adefovir'),\n (8848, -1.9458404, 'defer'),\n (13194, -1.9456834, 'singleton'),\n (715, -1.9456002, 'apraxia'),\n (22216, -1.9455417, 'radioprotect'),\n (16947, -1.9452349, 'hrtem'),\n (13373, -1.9452002, 'eccentr'),\n (8426, -1.9451675, 'agglomer'),\n (4127, -1.9451648, 'nineti'),\n (4023, -1.9449579, 'plasmodium'),\n (12350, -1.9448776, 'rcc'),\n (6972, -1.9448378, 'childbirth'),\n (10943, -1.9447323, 'womac'),\n (15191, -1.9447249, 'ldc'),\n (2280, -1.9446596, 'irrelev'),\n (28824, -1.9444352, 'cynic'),\n (10091, -1.9443759, 'hoc'),\n (16959, -1.9442499, 'sba'),\n (7945, -1.9442433, 'coincid'),\n (7832, -1.9442375, 'bronchopulmonari'),\n (9200, -1.9441931, 'hfpef'),\n (22110, -1.9441149, 'paea'),\n (250, -1.9440721, 'statist'),\n (28289, -1.9440305, 'midpelv'),\n (19665, -1.9439793, 'dihydrofol'),\n (8263, -1.9439676, 'mlr'),\n (8463, -1.9439638, 'dollar'),\n (23358, -1.9439232, 'coryza'),\n (12778, -1.9438168, 'contralater'),\n (7447, -1.943808, 'wine'),\n (14091, -1.9436575, 'downward'),\n (16154, -1.9436572, 'pcp'),\n (12084, -1.9435763, 'standardis'),\n (18303, -1.9434451, 'teraligen'),\n (11245, -1.943327, 'gct'),\n (15632, -1.9432447, 'vigil'),\n (6868, -1.9432291, 'welcom'),\n (9491, -1.9431845, 'rs'),\n (22787, -1.9431835, 'apc'),\n (15291, -1.9431131, 'pretest'),\n (2410, -1.9430841, 'prostat'),\n (17710, -1.9429506, 'nonsurvivor'),\n (14839, -1.9426669, 'jackson'),\n (4698, -1.9424852, 'spend'),\n (20632, -1.9424516, 'grasp'),\n (21150, -1.9423927, 'sew'),\n (19836, -1.9423729, 'tdc'),\n (4340, -1.9423119, 'biomicroscopi'),\n (16308, -1.9422958, 'scapular'),\n (23815, -1.9421295, 'lgr'),\n (24488, -1.942129, 'perci'),\n (21141, -1.9419091, 'fcr'),\n (5788, -1.9417267, 'closer'),\n (10357, -1.9416655, 'sprinter'),\n (11676, -1.9415412, 'interobserv'),\n (11558, -1.9412202, 'wean'),\n (2411, -1.9411675, 'stratif'),\n (25509, -1.9411625, 'savr'),\n (6940, -1.9409425, 'nodal'),\n (7962, -1.9409255, 'wildfir'),\n (830, -1.9407885, 'wistar'),\n (17358, -1.940662, 'wbe'),\n (8412, -1.9406531, 'erm'),\n (330, -1.9405456, 'hour'),\n (7003, -1.9402064, 'nonn'),\n (10073, -1.9401424, 'anova'),\n (7573, -1.9400214, 'albeit'),\n (24108, -1.9400063, 'aptx'),\n (251, -1.9399664, 'adjust'),\n (11711, -1.9398005, 'neurorehabilit'),\n (6696, -1.9394523, 'enterococci'),\n (3637, -1.9392756, 'cci'),\n (6674, -1.9392275, 'alloster'),\n (9868, -1.93921, 'excitatori'),\n (21718, -1.9391515, 'shp'),\n (456, -1.9390916, 'interv'),\n (13195, -1.9390743, 'chorioamnion'),\n (13144, -1.9390156, 'shaft'),\n (3112, -1.9387133, 'latent'),\n (20958, -1.9385023, 'uacr'),\n (15238, -1.9384543, 'tubulointerstiti'),\n (20077, -1.9384204, 'tn'),\n (15314, -1.9379854, 'glm'),\n (7783, -1.9377801, 'icc'),\n (18219, -1.9376634, 'msct'),\n (19630, -1.9376078, 'contigu'),\n (11106, -1.9376057, 'folat'),\n (21999, -1.9374826, 'sige'),\n (8300, -1.93746, 'explicitli'),\n (17774, -1.9374577, 'nsf'),\n (7863, -1.9373858, 'drought'),\n (11501, -1.9372318, 'sevofluran'),\n (11198, -1.9371697, 'taqman'),\n (54, -1.9371419, 'p'),\n (743, -1.9370979, 'divid'),\n (21052, -1.9369887, 'trastuzumab'),\n (8050, -1.936763, 'recipi'),\n (26234, -1.9366683, 'hupensi'),\n (15316, -1.936469, 'unaffect'),\n (8550, -1.9363801, 'sink'),\n (11111, -1.9362744, 'dd'),\n (22279, -1.9361074, 'rpp'),\n (9776, -1.9357941, 'eg'),\n (7953, -1.9357201, 'conting'),\n (13226, -1.935649, 'insignific'),\n (17371, -1.935632, 'denp'),\n (2312, -1.9354632, 'landmark'),\n (8854, -1.935461, 'dialysi'),\n (770, -1.935397, 'catheter'),\n (11691, -1.9353316, 'hpse'),\n (19089, -1.9352733, 'eculizumab'),\n (5476, -1.9351678, 'sanyinjiao'),\n (11028, -1.9351597, 'hypoxia'),\n (13180, -1.9351193, 'icsi'),\n (6204, -1.9350604, 'clue'),\n (9346, -1.9347867, 'abt'),\n (5420, -1.9346304, 'hypothyroid'),\n (7785, -1.9345399, 'expiratori'),\n (11169, -1.9345348, 'heroin'),\n (11647, -1.9345098, 'hyperglycemia'),\n (20701, -1.9344742, 'hbpe'),\n (9368, -1.9344255, 'spf'),\n (22192, -1.9344027, 'femtosecond'),\n (6251, -1.9342225, 'hubei'),\n (12792, -1.9342021, 'traine'),\n (14352, -1.9337872, 'uninvad'),\n (19237, -1.9336472, 'sphlg'),\n (5561, -1.9336023, 'hydrop'),\n (15344, -1.9335752, 'crohn'),\n (23675, -1.9331528, 'frontopariet'),\n (20312, -1.9331439, 'confirmatori'),\n (26088, -1.9330229, 'eol'),\n (6864, -1.9329367, 'inappropri'),\n (8061, -1.9328606, 'dysbacteriosi'),\n (3363, -1.9328269, 'remind'),\n (15470, -1.932669, 'discretionari'),\n (9515, -1.9325796, 'hpv'),\n (21891, -1.932475, 'oic'),\n (18709, -1.9324336, 'ifg'),\n (5704, -1.9324017, 'trimest'),\n (11926, -1.9323816, 'miniinvas'),\n (11494, -1.932373, 'laryngoscop'),\n (2236, -1.9322199, 'pca'),\n (4234, -1.932165, 'hrt'),\n (11356, -1.9321587, 'ì'),\n (10410, -1.9320685, 'minimalist'),\n (368, -1.9320493, 'cumul'),\n (6962, -1.93201, 'mastectomi'),\n (9492, -1.9318568, 'sum'),\n (19186, -1.9318131, 'nvx'),\n (5452, -1.9317453, 'passiv'),\n (9060, -1.9314144, 'sepsi'),\n (14563, -1.9314114, 'myositi'),\n (8872, -1.9314017, 'slower'),\n (9053, -1.9313248, 'hyperbar'),\n (11747, -1.9313047, 'neurophysiolog'),\n (27052, -1.9312671, 'isftu'),\n (11296, -1.9311136, 'unmarri'),\n (9329, -1.9310379, 'mascara'),\n (14727, -1.9308804, 'pen'),\n (17119, -1.9308572, 'diopter'),\n (14639, -1.9308426, 'hoxb'),\n (9952, -1.9308327, 'twelv'),\n (4092, -1.9307927, 'montelukast'),\n (5569, -1.9306937, 'slight'),\n (16838, -1.9305958, 'nbo'),\n (10470, -1.9305257, 'tl'),\n (5526, -1.9305042, 'ep'),\n (11591, -1.9304554, 'scoliosi'),\n (9574, -1.9304466, 'rectum'),\n (961, -1.9303818, 'troponin'),\n (4715, -1.9303548, 'colorect'),\n (23895, -1.9303448, 'opc'),\n (2994, -1.9303066, 'asthma'),\n (8466, -1.930213, 'floccul'),\n (2822, -1.9301857, 'collat'),\n (20230, -1.9300646, 'houston'),\n (8674, -1.9300368, 'noth'),\n (13248, -1.9299841, 'tcr'),\n (7760, -1.9299016, 'evar'),\n (6646, -1.9297353, 'cg'),\n (13148, -1.9296278, 'tubal'),\n (425, -1.9295732, 'surviv'),\n (8930, -1.9292793, 'morcel'),\n (4899, -1.9292762, 'factori'),\n (13471, -1.9292722, 'manageri'),\n (6503, -1.9292333, 'hive'),\n (2130, -1.9292046, 'turnov'),\n (8746, -1.9291703, 'anaesthet'),\n (13196, -1.929134, 'balt'),\n (16657, -1.9290655, 'nl'),\n (23504, -1.9290334, 'neurogenesi'),\n (18209, -1.928917, 'ica'),\n (16793, -1.9289114, 'asynchron'),\n (26165, -1.9287874, 'bother'),\n (6127, -1.9287146, 'transduct'),\n (4842, -1.9285688, 'steadi'),\n (10206, -1.9284141, 'osteonecrosi'),\n (22561, -1.9283726, 'cct'),\n (21325, -1.9280609, 'cdt'),\n (22424, -1.9280214, 'ambrisentan'),\n (2872, -1.9278105, 'preterm'),\n (12384, -1.927736, 'pba'),\n (8545, -1.9276727, 'ungul'),\n (3288, -1.9274472, 'quadrant'),\n (7792, -1.9274337, 'nephrolog'),\n (27841, -1.9270403, 'cme'),\n (1815, -1.9269233, 'minut'),\n (20435, -1.9267881, 'icf'),\n (20850, -1.9267204, 'bcnw'),\n (11451, -1.9264722, 'hotel'),\n (11780, -1.9263113, 'bolu'),\n (8766, -1.9262948, 'agit'),\n (7845, -1.9262751, 'hypoglycem'),\n (25944, -1.9262074, 'allura'),\n (24963, -1.9259841, 'nightli'),\n (20219, -1.9255787, 'kmr'),\n (7739, -1.9255729, 'anastomot'),\n (20572, -1.9255248, 'bullfrog'),\n (1905, -1.9255203, 'schooli'),\n (6889, -1.9253391, 'shorter'),\n (18339, -1.9252828, 'asthen'),\n (23111, -1.925151, 'artifact'),\n (25753, -1.9251297, 'zic'),\n (8486, -1.925114, 'instructor'),\n (20693, -1.9250864, 'osteonectin'),\n (16881, -1.9250603, 'neil'),\n (9262, -1.9247681, 'hospitalis'),\n (24772, -1.9246839, 'sclerostin'),\n (5203, -1.9245937, 'atop'),\n (17764, -1.9245099, 'dropp'),\n (20846, -1.9244832, 'bmpb'),\n (12225, -1.9244783, 'anem'),\n (109, -1.9244754, 'boost'),\n (14858, -1.9244256, 'roflumilast'),\n (4955, -1.9243487, 'defoli'),\n (9779, -1.9243358, 'tp'),\n (23374, -1.9243257, 'cek'),\n (25147, -1.9243035, 'tryptas'),\n (11599, -1.9242992, 'inh'),\n (9975, -1.9242959, 'rage'),\n (4345, -1.9238653, 'supernat'),\n (8457, -1.9237196, 'alumina'),\n (15779, -1.9236656, 'statokinet'),\n (19922, -1.9236375, 'similoid'),\n (25042, -1.9235258, 'unicompartment'),\n (23254, -1.9235178, 'fpcp'),\n (6911, -1.923393, 'palli'),\n (779, -1.9232926, 'injur'),\n (7136, -1.923149, 'clove'),\n (12633, -1.923081, 'pyogen'),\n (740, -1.923051, 'moxibust'),\n (7873, -1.9229279, 'dam'),\n (7047, -1.9228939, 'sentinel'),\n (61, -1.9228768, 'admiss'),\n (26682, -1.9227383, 'tfv'),\n (23132, -1.9227176, 'suvmax'),\n (18437, -1.9225996, 'theta'),\n (11728, -1.922554, 'thyroidectomi'),\n (4700, -1.9225352, 'ascertain'),\n (9357, -1.9224955, 'tone'),\n (1635, -1.9223523, 'hg'),\n (8822, -1.922253, 'redesign'),\n (6878, -1.9221975, 'antitumor'),\n (15222, -1.9221134, 'unmut'),\n (11119, -1.9220291, 'sfa'),\n (12357, -1.9218894, 'vap'),\n (11228, -1.9217441, 'atherosclerosi'),\n (11049, -1.9216406, 'leptin'),\n (20268, -1.921464, 'vcd'),\n (9269, -1.9214563, 'dyn'),\n (13187, -1.9213665, 'triplet'),\n (8196, -1.9211854, 'analgesia'),\n (3127, -1.9211779, 'fifteen'),\n (650, -1.9210528, 'geometr'),\n (17578, -1.9210037, 'notr'),\n (9167, -1.920951, 'seat'),\n (21759, -1.9206765, 'pertin'),\n (281, -1.9205059, 'thrombectomi'),\n (5675, -1.9204746, 'massag'),\n (4273, -1.9204026, 'cataract'),\n (7148, -1.9203681, 'durabl'),\n (3358, -1.9203584, 'irrespect'),\n (4428, -1.9203147, 'metoprolol'),\n (22222, -1.9202757, 'mbq'),\n (7002, -1.9202044, 'heavier'),\n (8285, -1.9201561, 'presum'),\n (19917, -1.9201405, 'zymosan'),\n (1314, -1.9201273, 'briefli'),\n (12324, -1.9200845, 'phototherapi'),\n (2848, -1.9200402, 'interquartil'),\n (21626, -1.9199873, 'auroc'),\n (17456, -1.9199225, 'microvilli'),\n (28832, -1.9195822, 'hucb'),\n (10408, -1.9194404, 'hierarch'),\n (11729, -1.919437, 'hyperthyroid'),\n (17304, -1.9193718, 'osteoporot'),\n (20959, -1.9193553, 'cma'),\n (2329, -1.9192735, 'abbrevi'),\n (28090, -1.9192665, 'pnen'),\n (28466, -1.9191455, 'iadl'),\n (1818, -1.9188461, 'gt'),\n (10395, -1.91875, 'neuromuscular'),\n (5517, -1.9186747, 'reni'),\n (22627, -1.9186577, 'hft'),\n (4887, -1.9183724, 'assemblag'),\n (23107, -1.9183654, 'ctu'),\n (14339, -1.9183611, 'metapopul'),\n (17236, -1.9183517, 'electrospun'),\n (14200, -1.9183344, 'preponder'),\n (6694, -1.9181879, 'mechanist'),\n (17546, -1.918161, 'hcnf'),\n (18093, -1.9181517, 'censor'),\n (6925, -1.918114, 'ptx'),\n (11450, -1.9180927, 'amput'),\n (5409, -1.9180714, 'implicit'),\n (3964, -1.9180628, 'enlist'),\n (15022, -1.9180325, 'cecal'),\n (12764, -1.9177865, 'kruaron'),\n (13280, -1.9176415, 'semen'),\n (17118, -1.9176329, 'aquacultur'),\n (11420, -1.9173794, 'ffa'),\n (12798, -1.9173597, 'workshop'),\n (10736, -1.9173062, 'stimulatori'),\n (26295, -1.9173043, 'nsm'),\n (9973, -1.9172436, 'cronbach'),\n (1996, -1.9171579, 'colorimetr'),\n (16314, -1.9168608, 'skinfold'),\n (15907, -1.9168314, 'urogenit'),\n (6956, -1.9168264, 'remnant'),\n (20652, -1.916771, 'thermotherapi'),\n (13042, -1.9167488, 'arduou'),\n (3608, -1.9167312, 'nonrandom'),\n (4222, -1.9165992, 'unsuccess'),\n (16862, -1.9165424, 'dnp'),\n (2545, -1.9165164, 'complianc'),\n (24135, -1.9165156, 'euthyroid'),\n (2299, -1.916442, 'recal'),\n (26938, -1.9163569, 'htert'),\n (19671, -1.9163103, 'stabilis'),\n (27674, -1.9161421, 'rrf'),\n (24515, -1.916133, 'paraspeckl'),\n (8565, -1.916095, 'hct'),\n (115, -1.9160602, 'regimen'),\n (16740, -1.9160424, 'survivin'),\n (5926, -1.9160149, 'prolin'),\n (20436, -1.9159585, 'midlin'),\n (8898, -1.9159572, 'oximetri'),\n (9239, -1.9158827, 'cardiotox'),\n (27566, -1.9158703, 'murley'),\n (26940, -1.9157809, 'vivartana'),\n (4905, -1.9157288, 'forb'),\n (1351, -1.915701, 'paramed'),\n (11349, -1.915584, 'toast'),\n (2316, -1.9155108, 'exact'),\n (11623, -1.9154412, 'missens'),\n (617, -1.9153379, 'twenti'),\n (10128, -1.9153267, 'mtb'),\n (25412, -1.9152775, 'vergenc'),\n (22293, -1.9151738, 'caveola'),\n (7193, -1.9151399, 'permethrin'),\n (3044, -1.9151063, 'advic'),\n (18555, -1.9150412, 'redempt'),\n (15318, -1.9150349, 'mh'),\n (10346, -1.9150223, 'kinemat'),\n (7342, -1.9148967, 'bollgard'),\n (21241, -1.9148933, 'loxl'),\n (15935, -1.9147868, 'gleason'),\n (21758, -1.914779, 'gdp'),\n (16190, -1.9147742, 'facebook'),\n (10593, -1.9146864, 'os'),\n (3154, -1.9146847, 'tonsillectomi'),\n (2320, -1.9145744, 'bayesian'),\n (19693, -1.9145701, 'stepwis'),\n (3846, -1.9145068, 'metacor'),\n (34, -1.9145058, 'logist'),\n (22260, -1.9144853, 'dir'),\n (2981, -1.9144118, 'percent'),\n (26834, -1.9144037, 'dufe'),\n (4420, -1.9143759, 'apart'),\n (15551, -1.9142579, 'ell'),\n (22389, -1.9141943, 'asbo'),\n (1796, -1.9141624, 'felt'),\n (21772, -1.9140925, 'seminar'),\n (2982, -1.9140571, 'willing'),\n (6829, -1.914039, 'pathogenet'),\n (729, -1.9139073, 'aphasia'),\n (15492, -1.9139063, 'ds'),\n (6983, -1.9138787, 'fewer'),\n (9481, -1.9138331, 'icu'),\n (434, -1.9136578, 'prognost'),\n (10190, -1.9136114, 'fisher'),\n (8105, -1.9135315, 'dt'),\n (7981, -1.91325, 'priorit'),\n (26602, -1.9132177, 'gl'),\n (23188, -1.9130911, 'elastograph'),\n (24241, -1.9127587, 'calcineurin'),\n (2242, -1.9126323, 'meaning'),\n (7932, -1.9125859, 'plain'),\n (11916, -1.9124014, 'debt'),\n (69, -1.9123311, 'multivari'),\n (15906, -1.9121982, 'oab'),\n (10334, -1.9121847, 'anthropometr'),\n (12185, -1.9119626, 'cdk'),\n (16181, -1.9117603, 'itg'),\n (21469, -1.911597, 'exempt'),\n (438, -1.9115881, 'baselin'),\n (9384, -1.9113617, 'bsa'),\n (563, -1.9113551, 'thirti'),\n (9229, -1.9113187, 'stiff'),\n (15556, -1.9112897, 'wore'),\n (5396, -1.9111181, 'essenc'),\n (21243, -1.9109316, 'xfg'),\n (1806, -1.9109281, 'longer'),\n (3689, -1.9108634, 'endpoint'),\n (2830, -1.9108118, 'nonsteroid'),\n (20291, -1.9106851, 'altogeth'),\n (8007, -1.9106271, 'undesir'),\n (13162, -1.9105991, 'iui'),\n (12312, -1.910535, 'thrombi'),\n (7176, -1.9105071, 'finit'),\n (16868, -1.910491, 'mwnt'),\n (21847, -1.9103156, 'rrd'),\n (313, -1.9102181, 'ratio'),\n (21237, -1.9101862, 'vte'),\n (9588, -1.9100047, 'therapist'),\n (6768, -1.9099851, 'lb'),\n (4891, -1.909971, 'graze'),\n (10244, -1.9098628, 'cholescintigraphi'),\n (10557, -1.9096586, 'mcf'),\n (16733, -1.9095863, 'apgar'),\n (7850, -1.9095054, 'preclin'),\n (12767, -1.9094591, 'coma'),\n (13500, -1.9094201, 'haart'),\n (7470, -1.9093632, 'iri'),\n (8117, -1.9092448, 'satisfi'),\n (12711, -1.9091992, 'fvc'),\n (11758, -1.9091718, 'waveform'),\n (16931, -1.9091522, 'tpp'),\n (15455, -1.9088588, 'antipsychot'),\n (13970, -1.908547, 'labour'),\n (3937, -1.9084324, 'empower'),\n (8632, -1.9082428, 'await'),\n (26084, -1.9081753, 'eot'),\n (19221, -1.9080151, 'nude'),\n (5761, -1.9079446, 'unemploy'),\n (4788, -1.9079132, 'alloc'),\n (24796, -1.9077162, 'ciaki'),\n (7091, -1.9076408, 'leucania'),\n (5479, -1.9075569, 'usag'),\n (4800, -1.9075487, 'spent'),\n (7798, -1.9074411, 'creatinin'),\n (8187, -1.9074098, 'immunoposit'),\n (6201, -1.9073828, 'puriti'),\n (11439, -1.9072587, 'restrain'),\n (16064, -1.907245, 'forearm'),\n (7995, -1.9072264, 'lignin'),\n (7687, -1.9069947, 'testicular'),\n (3620, -1.9069827, 'wilcoxon'),\n (3615, -1.9067055, 'leukocyt'),\n (27678, -1.9066101, 'postexercis'),\n (10328, -1.9065613, 'fourteen'),\n (239, -1.9064293, 'overal'),\n (907, -1.9064219, 'hcc'),\n (4353, -1.9061867, 'amd'),\n (7070, -1.9060129, 'ld'),\n (14135, -1.9060127, 'extradur'),\n (1704, -1.905797, 'readi'),\n (9816, -1.9057546, 'easier'),\n (6257, -1.905548, 'lamp'),\n (4740, -1.9054053, 'wildlif'),\n (22718, -1.9053934, 'emf'),\n (8904, -1.9052582, 'resuscit'),\n (12900, -1.9051996, 'dci'),\n (12867, -1.9051867, 'palliat'),\n (5711, -1.9051158, 'warfarin'),\n (21215, -1.9050975, 'brip'),\n (13236, -1.9050623, 'aga'),\n (4864, -1.9050055, 'ignor'),\n (20974, -1.9050032, 'µt'),\n (19238, -1.9048603, 'aconitin'),\n (8615, -1.904757, 'contractil'),\n (8513, -1.9047105, 'pastur'),\n (3923, -1.9046458, 'invit'),\n (2239, -1.9044632, 'benchmark'),\n (13574, -1.9043303, 'spectrometr'),\n (22356, -1.9042946, 'hrm'),\n (19178, -1.9042903, 'mucoadhes'),\n (16495, -1.904138, 'cellulas'),\n (4939, -1.90412, 'discret'),\n (3841, -1.9040712, 'optimis'),\n (894, -1.9039851, 'cx'),\n (4928, -1.9039372, 'recalcitr'),\n (9193, -1.9038584, 'belgian'),\n (14571, -1.9037718, 'gn'),\n (2974, -1.9037392, 'seventi'),\n (6797, -1.9037089, 'immuno'),\n (15028, -1.9036067, 'emuls'),\n (4260, -1.9034612, 'rnfl'),\n (9359, -1.9033877, 'photographi'),\n (2339, -1.9033155, 'ng'),\n (12858, -1.9033129, 'hp'),\n (5575, -1.903297, 'vertebra'),\n (18522, -1.9031252, 'pdb'),\n (9432, -1.9030845, 'neurologist'),\n (1227, -1.902903, 'qualifi'),\n (24145, -1.9028853, 'trfi'),\n (19373, -1.902868, 'htc'),\n (1504, -1.9028404, 'periop'),\n (17640, -1.9027388, 'synbiot'),\n (8229, -1.9026452, 'curb'),\n (24147, -1.9025345, 'arbitr'),\n (595, -1.9025177, 'somnol'),\n (8386, -1.9024886, 'mn'),\n (22392, -1.9024357, 'nondiabet'),\n (10914, -1.9024218, 'bloc'),\n (1664, -1.9021137, 'diabet'),\n (19129, -1.9021019, 'undergradu'),\n (4978, -1.9020435, 'bottleneck'),\n (23596, -1.9020401, 'fmri'),\n (27478, -1.902004, 'cet'),\n (24965, -1.9020036, 'tourniquet'),\n (17687, -1.9019486, 'thypro'),\n (14844, -1.9019004, 'elbow'),\n (3870, -1.9018298, 'acknowledg'),\n (2201, -1.9018266, 'credibl'),\n (2730, -1.901784, 'men'),\n (14172, -1.9017448, 'officinarum'),\n (27142, -1.9017274, 'fmnl'),\n (1564, -1.9017011, 'tnf'),\n (8676, -1.9016585, 'impuls'),\n (3738, -1.9015265, 'ophthalm'),\n (28752, -1.9015002, 'prepregn'),\n (4037, -1.9014983, 'allianc'),\n (26186, -1.9014412, 'assd'),\n (16620, -1.9013463, 'bbp'),\n (13357, -1.9013364, 'modular'),\n (8808, -1.9012872, 'pah'),\n (16106, -1.9012142, 'destabil'),\n (9870, -1.9011493, 'dissatisfact'),\n (13413, -1.9009111, 'anaemia'),\n (5804, -1.900781, 'glomerular'),\n (21821, -1.9007633, 'hic'),\n (9634, -1.9007577, 'chair'),\n (22994, -1.9007232, 'crf'),\n (7656, -1.9007037, 'placement'),\n (5118, -1.900649, 'pgr'),\n (11724, -1.9006394, 'annuloplasti'),\n (21234, -1.9006073, 'periprocedur'),\n (8915, -1.9005781, 'ventil'),\n (5404, -1.9004692, 'arguabl'),\n (13858, -1.9003084, 'imatinib'),\n (14226, -1.9002664, 'antifung'),\n (15825, -1.9002228, 'interhospit'),\n (8256, -1.9001293, 'payer'),\n (593, -1.8999876, 'dyspnea'),\n (16168, -1.8997707, 'ult'),\n (13013, -1.8997364, 'testosteron'),\n (23363, -1.8996711, 'mdv'),\n (6741, -1.8996315, 'labil'),\n (11447, -1.8996254, 'whenev'),\n (12394, -1.8995802, 'nephropathi'),\n (1816, -1.8994404, 'vigor'),\n (11801, -1.8994387, 'rheumatolog'),\n (12939, -1.8993825, 'snail'),\n (20000, -1.8993767, 'ild'),\n (3245, -1.89925, 'subsid'),\n (1255, -1.8992428, 'acquisit'),\n (5393, -1.8991768, 'neighbor'),\n (3720, -1.8991295, 'rd'),\n (11707, -1.8990732, 'debilit'),\n (11748, -1.8990409, 'neurosurg'),\n (21815, -1.8989897, 'rgc'),\n (32, -1.8988636, 'predictor'),\n (11046, -1.8987981, 'cannul'),\n (16366, -1.8987572, 'hamper'),\n (1660, -1.8986925, 'pharmacotherapi'),\n (3769, -1.8986708, 'azithromycin'),\n (3548, -1.898581, 'cox'),\n (14493, -1.8985153, 'poct'),\n (325, -1.8984035, 'rankin'),\n (3011, -1.898336, 'fev'),\n (9328, -1.8982588, 'eyelin'),\n (979, -1.898024, 'eighti'),\n (7772, -1.8979752, 'orthodont'),\n (2355, -1.8979551, 'obes'),\n (16898, -1.8979034, 'bmsc'),\n (3981, -1.8978494, 'concert'),\n (28168, -1.897801, 'ltic'),\n (25746, -1.8977476, 'insula'),\n (23112, -1.8977076, 'transglut'),\n (3584, -1.8976263, 'restenosi'),\n (3071, -1.8975261, 'caesarean'),\n (17403, -1.8975052, 'radiopharmaceut'),\n (21712, -1.8974562, 'staf'),\n (155, -1.8974347, 'copi'),\n (8129, -1.8974336, 'mycobacterium'),\n (1825, -1.8973893, 'intent'),\n (18797, -1.8973215, 'nanoclust'),\n (6801, -1.897253, 'bacteriolog'),\n (17055, -1.8972276, 'biocontrol'),\n (18309, -1.8971254, 'poststrok'),\n (552, -1.896987, 'lower'),\n (18033, -1.8969821, 'basket'),\n (13139, -1.896766, 'brachytherapi'),\n (11496, -1.8967456, 'bronchoscop'),\n (13185, -1.8966787, 'nicu'),\n (18362, -1.8966447, 'benzodiazepin'),\n (10216, -1.8966229, 'cerclag'),\n (9527, -1.8964211, 'pneumothorax'),\n (9238, -1.8963672, 'noninvas'),\n (2457, -1.8963227, 'younger'),\n (3622, -1.896274, 'incis'),\n (6834, -1.8962233, 'pylori'),\n (19659, -1.8961693, 'glu'),\n (12059, -1.8960705, 'wear'),\n (15412, -1.895961, 'chlorophyl'),\n (22444, -1.8958778, 'ttr'),\n (13391, -1.8958763, 'deaf'),\n (9490, -1.8957872, 'isoform'),\n (5238, -1.895743, 'sociolog'),\n (21615, -1.8956716, 'pupillari'),\n (10536, -1.8956409, 'hepg'),\n (24711, -1.8956257, 'chb'),\n (322, -1.8955182, 'grade'),\n (7194, -1.8954571, 'nitenpyram'),\n (18508, -1.8954531, 'ethion'),\n (10236, -1.8954332, 'cta'),\n (15969, -1.8954312, 'nocebo'),\n (22644, -1.8947996, 'nfm'),\n (11746, -1.8947616, 'request'),\n (4220, -1.8946275, 'abort'),\n (6527, -1.894571, 'berri'),\n (10245, -1.8945384, 'sonographi'),\n (22862, -1.8945366, 'hci'),\n (11701, -1.8945187, 'physiotherapi'),\n (6621, -1.8945096, 'fgf'),\n (20968, -1.8944974, 'scf'),\n (5732, -1.8944378, 'cope'),\n (1234, -1.8943013, 'tactic'),\n (11530, -1.8942854, 'desfluran'),\n (28603, -1.8942105, 'eac'),\n (9943, -1.8941132, 'wwe'),\n (9798, -1.8941085, 'deregul'),\n (22978, -1.8940965, 'nesiritid'),\n (10411, -1.8939558, 'shoe'),\n (371, -1.8938934, 'matern'),\n (17402, -1.8937821, 'scintigraph'),\n (6244, -1.8937362, 'yunnan'),\n (10425, -1.8936648, 'extensor'),\n (11918, -1.8935957, 'genesi'),\n (7352, -1.893454, 'legum'),\n (8008, -1.8934314, 'quasi'),\n (27886, -1.8934056, 'noncontrast'),\n (3550, -1.8932298, 'wasfound'),\n (17601, -1.8931875, 'mpo'),\n (12668, -1.8931558, 'sunlight'),\n (21457, -1.8929995, 'icrp'),\n (1653, -1.8928548, 'criterion'),\n (18801, -1.8928342, 'lactid'),\n (15017, -1.8926176, 'ehmm'),\n (25749, -1.8925247, 'inositol'),\n (10350, -1.8924171, 'vault'),\n (2292, -1.8921916, 'verif'),\n (17027, -1.89216, 'periprosthet'),\n (18118, -1.8921337, 'protamin'),\n (13334, -1.8920432, 'marit'),\n (11053, -1.8920428, 'qc'),\n (4264, -1.8920155, 'rb'),\n (13063, -1.8919464, 'drg'),\n (419, -1.8919067, 'advers'),\n (7606, -1.8918705, 'stringent'),\n (7034, -1.8918599, 'cockerelli'),\n (6110, -1.8918155, 'rabv'),\n (1809, -1.8918104, 'sedentari'),\n (10757, -1.8917484, 'uric'),\n (3047, -1.8914977, 'pomp'),\n (18583, -1.8914938, 'poult'),\n (9569, -1.8914701, 'abdominoperin'),\n (28631, -1.891445, 'tenofovir'),\n (8864, -1.8913826, 'subpopul'),\n (14701, -1.8913635, 'booster'),\n (11634, -1.8912654, 'ileu'),\n (14168, -1.8911753, 'ramadan'),\n (17577, -1.8911595, 'odour'),\n (11226, -1.8910582, 'bez'),\n (15366, -1.8910259, 'phe'),\n (6624, -1.8910129, 'suboptim'),\n (7782, -1.8909893, 'psychosoci'),\n (6205, -1.8909659, 'vlp'),\n (21930, -1.8907288, 'neurodegener'),\n (981, -1.8906453, 'compli'),\n (2876, -1.8906242, 'offspr'),\n (24887, -1.8905318, 'poststimulu'),\n (886, -1.8904927, 'rt'),\n (15887, -1.8904874, 'urethroplasti'),\n (21505, -1.8904167, 'azathioprin'),\n (3069, -1.8902998, 'urgent'),\n (431, -1.8902909, 'median'),\n (5444, -1.8901002, 'triglycerid'),\n (5555, -1.8900734, 'cochlea'),\n (8037, -1.8898257, 'naiv'),\n (8230, -1.8898033, 'rose'),\n (16231, -1.8894498, 'mcln'),\n (23643, -1.8893096, 'amnesia'),\n (7758, -1.889226, 'elect'),\n (5402, -1.8891944, 'inconsist'),\n (17479, -1.8891897, 'caco'),\n (2308, -1.8891495, 'user'),\n (20948, -1.8890685, 'oecd'),\n (369, -1.8889363, 'incid'),\n (9237, -1.8889244, 'cad'),\n (6312, -1.8888456, 'coi'),\n (2742, -1.8888407, 'hierarchi'),\n (14225, -1.8887918, 'prophylact'),\n (27202, -1.8886896, 'cilla'),\n (21954, -1.8886263, 'pskr'),\n (536, -1.8885027, 'sixti'),\n (12130, -1.8884808, 'ccu'),\n (6198, -1.8884252, 'elisa'),\n (20523, -1.8882155, 'lauric'),\n (6795, -1.8881915, 'microecolog'),\n (2368, -1.8881816, 'snp'),\n (16474, -1.888118, 'cockl'),\n (358, -1.8880858, 'cohort'),\n (13809, -1.8880522, 'clover'),\n (5092, -1.8880498, 'allometr'),\n (11615, -1.8880004, 'spo'),\n (1811, -1.8879496, 'randomis'),\n (20260, -1.8879329, 'sj'),\n (20645, -1.8879173, 'spragu'),\n (15007, -1.887781, 'diuret'),\n (7308, -1.8876524, 'lag'),\n (9231, -1.8875804, 'postprocedur'),\n (172, -1.8874837, 'ie'),\n (16253, -1.887363, 'everyon'),\n (7914, -1.8871049, 'pce'),\n (12341, -1.8870163, 'deceas'),\n (4777, -1.8869789, 'outdoor'),\n (5273, -1.8867358, 'creativ'),\n (7649, -1.8866954, 'infrequ'),\n (16887, -1.8865267, 'enoxaparin'),\n (16756, -1.8865018, 'bethesda'),\n (5041, -1.8864938, 'stronger'),\n (8365, -1.8864403, 'unidentifi'),\n (381, -1.8863845, 'linkag'),\n (16011, -1.8863182, 'normox'),\n (2891, -1.8862956, 'mammographi'),\n (4784, -1.8862231, 'corticosteron'),\n (1148, -1.8861914, 'greater'),\n (2370, -1.8861668, 'ethnic'),\n (6455, -1.8861533, 'fecund'),\n (17289, -1.8859535, 'bss'),\n (3794, -1.8859464, 'concord'),\n (21188, -1.8859388, 'modestli'),\n (3110, -1.8858763, 'bmi'),\n (16010, -1.8858634, 'bronchiol'),\n (12221, -1.885841, 'nlr'),\n (2544, -1.8857847, 'rural'),\n (21333, -1.8856595, 'romanian'),\n (9881, -1.8856281, 'chi'),\n (10929, -1.885618, 'icd'),\n (4253, -1.8855327, 'retina'),\n (5883, -1.8854897, 'hair'),\n (340, -1.8853738, 'proport'),\n (8863, -1.8852911, 'str'),\n (12912, -1.8852342, 'mortem'),\n (23373, -1.8850003, 'dpi'),\n (12390, -1.8849932, 'mood'),\n (12687, -1.8849225, 'tsh'),\n (18318, -1.8848754, 'prediabet'),\n (18469, -1.8847588, 'prion'),\n (4500, -1.8847513, 'lump'),\n (15280, -1.8847016, 'protract'),\n (5075, -1.8846748, 'virginia'),\n (9000, -1.8846502, 'villag'),\n (16734, -1.8845171, 'pyramidali'),\n (10231, -1.8844898, 'withdrawn'),\n (6690, -1.8844821, 'cst'),\n (1689, -1.8843539, 'burn'),\n (18925, -1.8843018, 'suppur'),\n (2871, -1.8841783, 'allergi'),\n (1634, -1.8841667, 'mm'),\n (4281, -1.8840361, 'subclin'),\n (9248, -1.8839617, 'expir'),\n (7820, -1.8839554, 'osteoblast'),\n (21730, -1.8839512, 'anaesthetist'),\n (5353, -1.8836806, 'price'),\n (4801, -1.8834379, 'overload'),\n (10959, -1.8833262, 'likert'),\n (12788, -1.8833057, 'moscow'),\n (9796, -1.8832451, 'shh'),\n (1676, -1.8831105, 'unresect'),\n (4892, -1.883095, 'atmospher'),\n (22517, -1.8830949, 'catbad'),\n (8956, -1.8830497, 'endosom'),\n (15613, -1.8829573, 'phenomenolog'),\n (2225, -1.8829117, 'row'),\n (12885, -1.8828996, 'psychosomat'),\n (18348, -1.8828889, 'carnicetin'),\n (16700, -1.8828359, 'ugt'),\n (12214, -1.8825724, 'qol'),\n (11719, -1.8825722, 'plasti'),\n (5478, -1.8824944, 'supplementari'),\n (671, -1.882487, 'infarct'),\n (21144, -1.8824769, 'posthatch'),\n (11165, -1.8823864, 'ctx'),\n (525, -1.8823754, 'acupoint'),\n (739, -1.8823154, 'reliev'),\n (7925, -1.8821558, 'phenolog'),\n (5508, -1.8821346, 'rm'),\n (9280, -1.8819485, 'transthorac'),\n (10309, -1.8819225, 'jun'),\n (16685, -1.881912, 'nullipar'),\n (4133, -1.8818834, 'qualif'),\n (2977, -1.8818724, 'nineteen'),\n (8026, -1.8817961, 'testifi'),\n (12254, -1.8817941, 'refractori'),\n (170, -1.881768, 'group'),\n (2928, -1.8814889, 'pool'),\n (5293, -1.8814645, 'causal'),\n (3834, -1.8814502, 'lose'),\n (15228, -1.8814162, 'mcd'),\n (5696, -1.88125, 'respir'),\n (24180, -1.8812219, 'psr'),\n (10633, -1.8812176, 'linol'),\n (6888, -1.880983, 'fluorouracil'),\n (21711, -1.8809216, 'trough'),\n (23619, -1.880896, 'cingul'),\n (13058, -1.8808298, 'nice'),\n (5427, -1.8807844, 'hundr'),\n (4898, -1.880587, 'realist'),\n (14124, -1.8805702, 'extracapsular'),\n (7345, -1.8804659, 'boll'),\n (9180, -1.8804142, 'bupivacain'),\n (1126, -1.8803298, 'deepen'),\n (2705, -1.8802192, 'profici'),\n (9764, -1.8801988, 'hyp'),\n (8139, -1.8801649, 'pearson'),\n (12809, -1.8801394, 'fbc'),\n (27023, -1.8800908, 'toxigen'),\n (21702, -1.8800321, 'subspecialti'),\n (5063, -1.8799859, 'impos'),\n (16950, -1.8797872, 'deproton'),\n (23604, -1.8797871, 'salienc'),\n (13409, -1.8797491, 'dyspepsia'),\n (8492, -1.8797415, 'laparoscopi'),\n (4039, -1.8795394, 'squamou'),\n (403, -1.879467, 'rituximab'),\n (7636, -1.8794253, 'spite'),\n (13429, -1.879351, 'registrar'),\n (26083, -1.8793501, 'apasl'),\n (14218, -1.8793197, 'edta'),\n (182, -1.8793011, 'meier'),\n (451, -1.8792324, 'fatigu'),\n (15936, -1.8792269, 'ilc'),\n (3945, -1.8792008, 'ipv'),\n (9294, -1.8791387, 'greav'),\n (5416, -1.8791232, 'biometr'),\n (13399, -1.8790337, 'debrid'),\n (12696, -1.8789926, 'vitrectomi'),\n (16661, -1.8789873, 'qvagin'),\n (2408, -1.8787199, 'binari'),\n (17116, -1.878637, 'standpip'),\n (21529, -1.878619, 'egja'),\n (1782, -1.8785468, 'preschool'),\n (3460, -1.8785245, 'adipos'),\n (5054, -1.8785044, 'satur'),\n (452, -1.878277, 'month'),\n (6560, -1.8781741, 'wk'),\n (180, -1.878065, 'point'),\n (4951, -1.8780115, 'render'),\n (6031, -1.8779639, 'startl'),\n (648, -1.8779545, 'maze'),\n (24133, -1.877835, 'noncardiac'),\n (12416, -1.877807, 'lobar'),\n (783, -1.8776394, 'postop'),\n (3650, -1.8776268, 'antihypertens'),\n (12, -1.8775651, 'trend'),\n (196, -1.8774854, 'significantli'),\n (26237, -1.8773329, 'molluscicid'),\n (3931, -1.8772595, 'haemoglobin'),\n (4192, -1.8772321, 'agalactia'),\n (9353, -1.8772128, 'gloss'),\n (8560, -1.8771164, 'pendimethalin'),\n (1592, -1.876995, 'intox'),\n (167, -1.8769298, 'outcom'),\n (15477, -1.876924, 'ehr'),\n (12766, -1.876904, 'icp'),\n (7856, -1.8767853, 'millilit'),\n (16528, -1.8767378, 'asd'),\n (12360, -1.876666, 'vancomycin'),\n (18155, -1.8764467, 'electromechan'),\n (5773, -1.8764366, 'ckd'),\n (12585, -1.8764255, 'levofloxacin'),\n (5482, -1.8763812, 'cur'),\n (6124, -1.8762412, 'traffick'),\n ...]"
     },
     "execution_count": 126,
     "metadata": {},
     "output_type": "execute_result"
    }
   ],
   "source": [
    "num_to_emb_sorted[1000:]"
   ],
   "metadata": {
    "collapsed": false,
    "pycharm": {
     "name": "#%%\n"
    }
   }
  },
  {
   "cell_type": "code",
   "execution_count": 30,
   "outputs": [],
   "source": [],
   "metadata": {
    "collapsed": false,
    "pycharm": {
     "name": "#%%\n"
    }
   }
  },
  {
   "cell_type": "code",
   "execution_count": 31,
   "outputs": [],
   "source": [],
   "metadata": {
    "collapsed": false,
    "pycharm": {
     "name": "#%%\n"
    }
   }
  },
  {
   "cell_type": "code",
   "execution_count": 16,
   "outputs": [
    {
     "data": {
      "text/plain": "{'background': 0,\n 'traumat': 1,\n 'brain': 2,\n 'injuri': 3,\n 'tbi': 4,\n 'lead': 5,\n 'caus': 6,\n 'death': 7,\n 'disabl': 8,\n 'worldwid': 9,\n 'examin': 10,\n 'nationwid': 11,\n 'trend': 12,\n 'relat': 13,\n 'hospit': 14,\n 'mortal': 15,\n 'april': 16,\n 'march': 17,\n 'use': 18,\n 'popul': 19,\n 'base': 20,\n 'databas': 21,\n 'mandatori': 22,\n 'canada': 23,\n 'method': 24,\n 'rate': 25,\n 'acut': 26,\n 'separ': 27,\n 'analyz': 28,\n 'linear': 29,\n 'regress': 30,\n 'independ': 31,\n 'predictor': 32,\n 'evalu': 33,\n 'logist': 34,\n 'result': 35,\n 'remain': 36,\n 'stabl': 37,\n 'children': 38,\n 'young': 39,\n 'adult': 40,\n 'increas': 41,\n 'consider': 42,\n 'among': 43,\n 'elderli': 44,\n 'age': 45,\n 'q': 46,\n 'year': 47,\n 'fall': 48,\n 'motor': 49,\n 'vehicl': 50,\n 'collis': 51,\n 'mvc': 52,\n 'common': 53,\n 'p': 54,\n 'decreas': 55,\n 'vulner': 56,\n 'experienc': 57,\n 'greatest': 58,\n 'risk': 59,\n 'declin': 60,\n 'admiss': 61,\n 'signific': 62,\n 'toward': 63,\n 'sever': 64,\n 'comorbid': 65,\n 'length': 66,\n 'stay': 67,\n 'howev': 68,\n 'multivari': 69,\n 'show': 70,\n 'odd': 71,\n 'time': 72,\n 'control': 73,\n 'relev': 74,\n 'factor': 75,\n 'advanc': 76,\n 'import': 77,\n 'inpati': 78,\n 'conclus': 79,\n 'involv': 80,\n 'older': 81,\n 'complex': 82,\n 'although': 83,\n 'prevent': 84,\n 'strategi': 85,\n 'like': 86,\n 'effect': 87,\n 'critic': 88,\n 'need': 89,\n 'especi': 90,\n 'advantag': 91,\n 'efavirenz': 92,\n 'part': 93,\n 'treatment': 94,\n 'infect': 95,\n 'human': 96,\n 'immunodefici': 97,\n 'viru': 98,\n 'hiv': 99,\n 'includ': 100,\n 'onc': 101,\n 'daili': 102,\n 'dose': 103,\n 'simplif': 104,\n 'co': 105,\n 'tuberculosi': 106,\n 'preserv': 107,\n 'ritonavir': 108,\n 'boost': 109,\n 'lopinavir': 110,\n 'second': 111,\n 'line': 112,\n 'harmon': 113,\n 'pediatr': 114,\n 'regimen': 115,\n 'concern': 116,\n 'possibl': 117,\n 'reduc': 118,\n 'viral': 119,\n 'efficaci': 120,\n 'expos': 121,\n 'nevirapin': 122,\n 'mother': 123,\n 'child': 124,\n 'transmiss': 125,\n 'object': 126,\n 'whether': 127,\n 'achiev': 128,\n 'initi': 129,\n 'suppress': 130,\n 'therapi': 131,\n 'transit': 132,\n 'without': 133,\n 'failur': 134,\n 'design': 135,\n 'set': 136,\n 'particip': 137,\n 'random': 138,\n 'open': 139,\n 'label': 140,\n 'noninferior': 141,\n 'trial': 142,\n 'conduct': 143,\n 'rahima': 144,\n 'moosa': 145,\n 'johannesburg': 146,\n 'south': 147,\n 'africa': 148,\n 'june': 149,\n 'decemb': 150,\n 'enrol': 151,\n 'plasma': 152,\n 'rna': 153,\n 'less': 154,\n 'copi': 155,\n 'ml': 156,\n 'dure': 157,\n 'follow': 158,\n 'week': 159,\n 'intervent': 160,\n 'randomli': 161,\n 'assign': 162,\n 'switch': 163,\n 'n': 164,\n 'continu': 165,\n 'main': 166,\n 'outcom': 167,\n 'measur': 168,\n 'differ': 169,\n 'group': 170,\n 'rebound': 171,\n 'ie': 172,\n 'confirm': 173,\n 'bound': 174,\n 'immunolog': 175,\n 'clinic': 176,\n 'respons': 177,\n 'secondari': 178,\n 'end': 179,\n 'point': 180,\n 'kaplan': 181,\n 'meier': 182,\n 'probabl': 183,\n 'wa': 184,\n 'side': 185,\n 'ci': 186,\n 'reject': 187,\n 'null': 188,\n 'hypothesi': 189,\n 'inferior': 190,\n 'cd': 191,\n 'cell': 192,\n 'percentag': 193,\n 'higher': 194,\n 'compar': 195,\n 'significantli': 196,\n 'thi': 197,\n 'therapeut': 198,\n 'approach': 199,\n 'may': 200,\n 'offer': 201,\n 'registr': 202,\n 'clinicaltri': 203,\n 'gov': 204,\n 'identifi': 205,\n 'nct': 206,\n 'document': 207,\n 'pattern': 208,\n 'prescript': 209,\n 'drug': 210,\n 'inform': 211,\n 'practic': 212,\n 'research': 213,\n 'live': 214,\n 'unit': 215,\n 'state': 216,\n 'tempor': 217,\n 'nation': 218,\n 'repres': 219,\n 'data': 220,\n 'health': 221,\n 'nutrit': 222,\n 'survey': 223,\n 'nhane': 224,\n 'noninstitution': 225,\n 'us': 226,\n 'seven': 227,\n 'cycl': 228,\n 'sampl': 229,\n 'size': 230,\n 'per': 231,\n 'rang': 232,\n 'exposur': 233,\n 'calendar': 234,\n 'within': 235,\n 'prior': 236,\n 'day': 237,\n 'assess': 238,\n 'overal': 239,\n 'class': 240,\n 'across': 241,\n 'analys': 242,\n 'weight': 243,\n 'indic': 244,\n 'estim': 245,\n 'report': 246,\n 'ani': 247,\n 'preval': 248,\n 'polypharmaci': 249,\n 'statist': 250,\n 'adjust': 251,\n 'studi': 252,\n 'period': 253,\n 'antihyperlipidem': 254,\n 'agent': 255,\n 'antidepress': 256,\n 'proton': 257,\n 'pump': 258,\n 'inhibitor': 259,\n 'muscl': 260,\n 'relax': 261,\n 'observ': 262,\n 'persist': 263,\n 'account': 264,\n 'chang': 265,\n 'distribut': 266,\n 'major': 267,\n 'endovascular': 268,\n 'ischem': 269,\n 'stroke': 270,\n 'improv': 271,\n 'revascular': 272,\n 'yield': 273,\n 'variabl': 274,\n 'function': 275,\n 'subgroup': 276,\n 'better': 277,\n 'definit': 278,\n 'associ': 279,\n 'mechan': 280,\n 'thrombectomi': 281,\n 'patient': 282,\n 'sourc': 283,\n 'systemat': 284,\n 'search': 285,\n 'medlin': 286,\n 'embas': 287,\n 'cinahl': 288,\n 'googl': 289,\n 'scholar': 290,\n 'cochran': 291,\n 'librari': 292,\n 'languag': 293,\n 'restrict': 294,\n 'august': 295,\n 'select': 296,\n 'elig': 297,\n 'vs': 298,\n 'standard': 299,\n 'medic': 300,\n 'care': 301,\n 'intraven': 302,\n 'tissu': 303,\n 'plasminogen': 304,\n 'activ': 305,\n 'tpa': 306,\n 'extract': 307,\n 'synthesi': 308,\n 'review': 309,\n 'qualiti': 310,\n 'abstract': 311,\n 'calcul': 312,\n 'ratio': 313,\n 'meta': 314,\n 'perform': 315,\n 'sensit': 316,\n 'certain': 317,\n 'imag': 318,\n 'characterist': 319,\n 'strength': 320,\n 'evid': 321,\n 'grade': 322,\n 'ordin': 323,\n 'modifi': 324,\n 'rankin': 325,\n 'scale': 326,\n 'mr': 327,\n 'score': 328,\n 'angiograph': 329,\n 'hour': 330,\n 'symptomat': 331,\n 'intracrani': 332,\n 'hemorrhag': 333,\n 'mean': 334,\n 'sd': 335,\n 'women': 336,\n 'underw': 337,\n 'receiv': 338,\n 'analysi': 339,\n 'proport': 340,\n 'benefit': 341,\n 'occur': 342,\n 'event': 343,\n 'pertussi': 344,\n 'encephalopathi': 345,\n 'seizur': 346,\n 'infant': 347,\n 'childhood': 348,\n 'epilepsi': 349,\n 'unknown': 350,\n 'long': 351,\n 'term': 352,\n 'individu': 353,\n 'link': 354,\n 'registri': 355,\n 'cover': 356,\n 'danish': 357,\n 'cohort': 358,\n 'born': 359,\n 'civil': 360,\n 'system': 361,\n 'gener': 362,\n 'match': 363,\n 'sex': 364,\n 'birth': 365,\n 'outpati': 366,\n 'diagnosi': 367,\n 'cumul': 368,\n 'incid': 369,\n 'hazard': 370,\n 'matern': 371,\n 'histori': 372,\n 'presenc': 373,\n 'congenit': 374,\n 'malform': 375,\n 'gestat': 376,\n 'uniqu': 377,\n 'person': 378,\n 'permit': 379,\n 'unambigu': 380,\n 'linkag': 381,\n 'complet': 382,\n 'emigr': 383,\n 'contact': 384,\n 'male': 385,\n 'develop': 386,\n 'comparison': 387,\n 'correspond': 388,\n 'denmark': 389,\n 'diagnos': 390,\n 'absolut': 391,\n 'low': 392}"
     },
     "execution_count": 16,
     "metadata": {},
     "output_type": "execute_result"
    }
   ],
   "source": [
    "preprocessor.vocabulary"
   ],
   "metadata": {
    "collapsed": false,
    "pycharm": {
     "name": "#%%\n"
    }
   }
  }
 ],
 "metadata": {
  "kernelspec": {
   "display_name": "Python 3",
   "language": "python",
   "name": "python3"
  },
  "language_info": {
   "codemirror_mode": {
    "name": "ipython",
    "version": 2
   },
   "file_extension": ".py",
   "mimetype": "text/x-python",
   "name": "python",
   "nbconvert_exporter": "python",
   "pygments_lexer": "ipython2",
   "version": "2.7.6"
  }
 },
 "nbformat": 4,
 "nbformat_minor": 0
}